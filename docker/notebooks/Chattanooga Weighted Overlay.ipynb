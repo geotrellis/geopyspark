{
 "cells": [
  {
   "cell_type": "code",
   "execution_count": null,
   "metadata": {
    "collapsed": true
   },
   "outputs": [],
   "source": [
    "from pyspark import SparkContext\n",
    "from geopyspark.geopycontext import GeoPyContext\n",
    "from geopyspark.geotrellis.catalog import read, read_value, query, write\n",
    "from geopyspark.geotrellis.constants import SPATIAL, ZOOM, TILE, HEATMAP_YELLOW_TO_RED\n",
    "from geopyspark.geotrellis.geotiff_rdd import get\n",
    "from geopyspark.geotrellis.rdd import RasterRDD, TiledRasterRDD\n",
    "from geopyspark.geotrellis.render import PngRDD, get_hex\n",
    "from geonotebook.vis.geotrellis.render_methods import single_band_render_from_color_map\n",
    "from geonotebook.wrappers import GeoTrellisCatalogLayerData, RddRasterData\n",
    "from functools import reduce\n",
    "import numpy as np"
   ]
  },
  {
   "cell_type": "code",
   "execution_count": null,
   "metadata": {
    "collapsed": true
   },
   "outputs": [],
   "source": [
    "M.set_center(-85.2934168635424, 35.02445474101138, 9)"
   ]
  },
  {
   "cell_type": "code",
   "execution_count": null,
   "metadata": {
    "collapsed": false
   },
   "outputs": [],
   "source": [
    "from functools import partial\n",
    "import urllib\n",
    "import json\n",
    "import pyproj\n",
    "from shapely.geometry import mapping, shape\n",
    "from shapely.ops import transform\n",
    "\n",
    "project = partial(\n",
    "    pyproj.transform,\n",
    "    pyproj.Proj(init='epsg:4326'),\n",
    "    pyproj.Proj(init='epsg:3857'))\n",
    "\n",
    "blob = urllib.request.urlopen(\"https://s3.amazonaws.com/chattademo/chatta_mask.json\").read()\n",
    "geom = shape(json.loads(blob.decode(\"utf-8\")))\n",
    "center = geom.centroid\n",
    "chatta_poly = transform(project, geom)\n",
    "chatta_poly"
   ]
  },
  {
   "cell_type": "code",
   "execution_count": null,
   "metadata": {
    "collapsed": true
   },
   "outputs": [],
   "source": [
    "!curl -o /tmp/mask.json https://s3.amazonaws.com/chattademo/chatta_mask.json\n",
    "\n",
    "from geonotebook.wrappers import VectorData\n",
    "vd = VectorData(\"/tmp/mask.json\")\n",
    "name = \"Outline\"\n",
    "M.add_layer(vd, name=name)"
   ]
  },
  {
   "cell_type": "code",
   "execution_count": null,
   "metadata": {
    "collapsed": true
   },
   "outputs": [],
   "source": [
    "M.set_center(center.x, center.y, 9)"
   ]
  },
  {
   "cell_type": "code",
   "execution_count": null,
   "metadata": {
    "collapsed": true
   },
   "outputs": [],
   "source": [
    "M.remove_layer(M.layers[0])"
   ]
  },
  {
   "cell_type": "markdown",
   "metadata": {},
   "source": [
    "## Viewing the layers"
   ]
  },
  {
   "cell_type": "code",
   "execution_count": null,
   "metadata": {
    "collapsed": true
   },
   "outputs": [],
   "source": [
    "catalog_uri = \"file://catalog\"\n",
    "          "
   ]
  },
  {
   "cell_type": "code",
   "execution_count": null,
   "metadata": {
    "collapsed": true
   },
   "outputs": [],
   "source": [
    "sc = SparkContext(appName=\"Chatta Weighted Overlay\")\n",
    "geopysc = GeoPyContext(sc)"
   ]
  },
  {
   "cell_type": "markdown",
   "metadata": {},
   "source": [
    "### NLCD cultivated land vs Chattanooga prime agriculture soil"
   ]
  },
  {
   "cell_type": "code",
   "execution_count": null,
   "metadata": {
    "collapsed": true
   },
   "outputs": [],
   "source": [
    "nlcdCultivated = GeoTrellisCatalogLayerData(geopysc, \n",
    "                                            catalog_uri, \n",
    "                                            \"cultivated-land-cover\",\n",
    "                                            SPATIAL)\n",
    "\n",
    "agSoil = GeoTrellisCatalogLayerData(geopysc, \n",
    "                                    catalog_uri, \n",
    "                                    \"prime-ag-soil\",\n",
    "                                    SPATIAL)"
   ]
  },
  {
   "cell_type": "code",
   "execution_count": null,
   "metadata": {
    "collapsed": true
   },
   "outputs": [],
   "source": [
    "\n",
    "cmap1 = { 0 : \"#00000099\", 1: \"#CA9146FF\" }\n",
    "cmap_render1 = single_band_render_from_color_map(cmap1)\n",
    "def render_nlcd_cultivated(tile):\n",
    "    arr = tile[0]\n",
    "    print(\"%d - %d\" % (arr.min(), arr.max()))\n",
    "    return cmap_render1(arr)\n",
    "\n",
    "cmap2 = { 0 : \"#00000099\", 1: \"#CAC145FF\", 1: \"#FFFF45FF\", 128: \"#FF000099\" }\n",
    "cmap_render2 = single_band_render_from_color_map(cmap2)\n",
    "def render_ag_soil(tile):\n",
    "    t = tile[0]\n",
    "    arr = np.ma.masked_where(t == 128, t)\n",
    "    return cmap_render2(arr)"
   ]
  },
  {
   "cell_type": "code",
   "execution_count": null,
   "metadata": {
    "collapsed": true
   },
   "outputs": [],
   "source": [
    "\n",
    "#M.add_layer(nlcdCultivated, render_tile=render_nlcd_cultivated)\n",
    "M.add_layer(agSoil, render_tile=render_ag_soil)"
   ]
  },
  {
   "cell_type": "code",
   "execution_count": null,
   "metadata": {
    "collapsed": true
   },
   "outputs": [],
   "source": [
    "#M.layers\n",
    "M.remove_layer(M.layers[0])\n",
    "#M.remove_layer(M.layers[0])"
   ]
  },
  {
   "cell_type": "code",
   "execution_count": null,
   "metadata": {
    "collapsed": true
   },
   "outputs": [],
   "source": [
    "nlcd_cultivated_rdd =    query(geopysc, \n",
    "                               SPATIAL, \n",
    "                               catalog_uri, \n",
    "                               \"cultivated-land-cover\", \n",
    "                               12, \n",
    "                               intersects=chatta_poly)\n",
    "ag_soil_rdd =    query(geopysc, \n",
    "                       SPATIAL, \n",
    "                       catalog_uri, \n",
    "                       \"prime-ag-soil\", \n",
    "                       12, \n",
    "                       intersects=chatta_poly)"
   ]
  },
  {
   "cell_type": "code",
   "execution_count": null,
   "metadata": {
    "collapsed": true
   },
   "outputs": [],
   "source": [
    "nlcd = nlcd_cultivated_rdd.to_numpy_rdd()\n",
    "ag = ag_soil_rdd.to_numpy_rdd()\n",
    "\n",
    "## How would I do the rest of this?\n",
    "## I want to combine the numpy arrays and show\n",
    "## prime ag soil that NLCD says isn't being cultivated."
   ]
  },
  {
   "cell_type": "markdown",
   "metadata": {
    "collapsed": true
   },
   "source": [
    "## The Weighted Overlay"
   ]
  },
  {
   "cell_type": "code",
   "execution_count": null,
   "metadata": {
    "collapsed": true
   },
   "outputs": [],
   "source": [
    "layer_weights = { \"developed-land\" :-3,\n",
    "                  \"prime-ag-soil\" : -1,\n",
    "                  \"not-prime-ag-soil\" : 4,\n",
    "                  \"forested-lands\" : 2,\n",
    "                  #\"cultivated-land-cover\" : 3,\n",
    "                  #\"forest-land-cover\" : 1,\n",
    "                  \"impervious\" : -2,\n",
    "                  \"protected\" : 4,\n",
    "                  \"prime-ag-soil-notfarm\" : 3,\n",
    "                  \"private-with-easements\" : -2,\n",
    "                  \"public-working-lands\" : 5,\n",
    "                  \"wetlands\" : 2\n",
    "                }\n",
    "# layer_weights = { \"developed-land\" : 1,\n",
    "#                   \"prime-ag-soil\" : 1,\n",
    "#                   \"not-prime-ag-soil\" : 1,\n",
    "#                   \"forested-lands\" : 1,\n",
    "#                   #\"cultivated-land-cover\" : 3,\n",
    "#                   #\"forest-land-cover\" : 1,\n",
    "#                   \"impervious\" : 1,\n",
    "#                   \"protected\" : 1,\n",
    "#                   \"prime-ag-soil-notfarm\" : 1,\n",
    "#                   \"private-with-easements\" : 1,\n",
    "#                   \"public-working-lands\" : 1,\n",
    "#                   \"wetlands\" : 1\n",
    "#                 }\n",
    "layers = list(layer_weights.keys())"
   ]
  },
  {
   "cell_type": "code",
   "execution_count": null,
   "metadata": {
    "collapsed": true
   },
   "outputs": [],
   "source": [
    "from pyspark.storagelevel import StorageLevel\n",
    "WO_ZOOM = 9\n",
    "rdds = []\n",
    "for layer_name in layer_weights:\n",
    "    rdd = query(geopysc, \n",
    "                SPATIAL, \n",
    "                catalog_uri, \n",
    "                layer_name, WO_ZOOM, \n",
    "                intersects=chatta_poly,\n",
    "                numPartitions=32).persist(StorageLevel.MEMORY_AND_DISK_SER)\n",
    "    weighted = rdd * layer_weights[layer_name]\n",
    "    fixed = (weighted + []) / 4.0\n",
    "    rdds.append(fixed)\n",
    "\n",
    "weighted_overlay = rdds[0] + rdds[1:]    "
   ]
  },
  {
   "cell_type": "code",
   "execution_count": null,
   "metadata": {
    "collapsed": true
   },
   "outputs": [],
   "source": [
    "breaks = weighted_overlay.get_quantile_breaks_exact_int(20)\n",
    "#breaks = [0,1,2,3,4,5]\n",
    "print(breaks)"
   ]
  },
  {
   "cell_type": "code",
   "execution_count": null,
   "metadata": {
    "collapsed": true
   },
   "outputs": [],
   "source": [
    "colors = get_hex(geopysc, HEATMAP_YELLOW_TO_RED, len(breaks))\n",
    "#colors = list(geopysc._jvm.geopyspark.geotrellis.ColorRamp.get_hex(HEATMAP_YELLOW_TO_RED, len(breaks)))\n",
    "print(colors)\n",
    "reversed(list(enumerate(zip(breaks[:-1],breaks[1:]))))"
   ]
  },
  {
   "cell_type": "code",
   "execution_count": null,
   "metadata": {
    "collapsed": true
   },
   "outputs": [],
   "source": [
    "color_dict = dict(enumerate(colors))\n",
    "color_dict.update({ -1 : \"#00000000\"})\n",
    "cmap = single_band_render_from_color_map(color_dict)\n",
    "def render_wo_tile(tiles):\n",
    "    weighted = []\n",
    "    minmaxs = []\n",
    "    for i, tile in enumerate(tiles):\n",
    "        t = tile[0].astype('int8')\n",
    "        w = np.ma.masked_where(t == -128, t) * layer_weights[layers[i]]\n",
    "        weighted.append(w)\n",
    "        minmaxs.append((w.min(), w.max()))\n",
    "        \n",
    "    #print(minmaxs)\n",
    "    tile = reduce(lambda x,y: x + y, weighted)\n",
    "    print(\"%d - %d\" % (tile.min(), tile.max()))\n",
    "    for (i, (low, high)) in reversed(list(enumerate(zip(breaks[:-1],breaks[1:])))):\n",
    "        if i == 0:\n",
    "            tile[np.ma.where((-127 <= tile) & (tile < high))] = i\n",
    "        elif i < len(breaks) - 1:\n",
    "            tile[np.ma.where((low <= tile) & (tile < high))] = i\n",
    "        else:\n",
    "            tile[np.ma.where(low <= tile)] = i\n",
    "    tile[np.ma.where(tile == -128)] = -1\n",
    "    print(\"%d - %d\" % (tile.min(), tile.max()))\n",
    "    return cmap(tile)\n",
    "\n",
    "    "
   ]
  },
  {
   "cell_type": "code",
   "execution_count": null,
   "metadata": {
    "collapsed": true
   },
   "outputs": [],
   "source": [
    "wo_data =GeoTrellisCatalogLayerData(geopysc, \n",
    "                                    catalog_uri, \n",
    "                                    layers,\n",
    "                                    SPATIAL)"
   ]
  },
  {
   "cell_type": "code",
   "execution_count": null,
   "metadata": {
    "collapsed": true
   },
   "outputs": [],
   "source": [
    "if len(M.layers) > 0:\n",
    "    M.remove_layer(M.layers[0])\n"
   ]
  },
  {
   "cell_type": "code",
   "execution_count": null,
   "metadata": {
    "collapsed": true
   },
   "outputs": [],
   "source": [
    "weighted_overlay.get_min_max()"
   ]
  },
  {
   "cell_type": "code",
   "execution_count": null,
   "metadata": {
    "collapsed": true
   },
   "outputs": [],
   "source": [
    "png = PngRDD.makePyramid(weighted_overlay, HEATMAP_YELLOW_TO_RED)\n",
    "#png = PngRDD.makePyramid(rdd, HEATMAP_YELLOW_TO_RED)"
   ]
  },
  {
   "cell_type": "code",
   "execution_count": null,
   "metadata": {
    "collapsed": true
   },
   "outputs": [],
   "source": [
    "png.pngpyramid[0].rdd().partitioner().get().numPartitions()"
   ]
  },
  {
   "cell_type": "code",
   "execution_count": null,
   "metadata": {
    "collapsed": true
   },
   "outputs": [],
   "source": [
    "M.add_layer(RddRasterData(png))"
   ]
  },
  {
   "cell_type": "code",
   "execution_count": null,
   "metadata": {
    "collapsed": true
   },
   "outputs": [],
   "source": [
    "layouts = set([])\n",
    "for rdd in rdds:\n",
    "    tl = rdd.layer_metadata['layoutDefinition'][\"tileLayout\"]\n",
    "    layouts.add((tl['layoutCols'],tl['layoutRows'],tl['tileCols'],tl['tileRows']))"
   ]
  },
  {
   "cell_type": "code",
   "execution_count": null,
   "metadata": {
    "collapsed": true
   },
   "outputs": [],
   "source": [
    "t = read_value(geopysc, SPATIAL, catalog_uri, \"prime-ag-soil\", 10,266,405)"
   ]
  },
  {
   "cell_type": "code",
   "execution_count": null,
   "metadata": {
    "collapsed": true
   },
   "outputs": [],
   "source": [
    "(t['data']).max()"
   ]
  },
  {
   "cell_type": "code",
   "execution_count": null,
   "metadata": {
    "collapsed": true
   },
   "outputs": [],
   "source": [
    "(td[0] * 4).min()"
   ]
  }
 ],
 "metadata": {
  "kernelspec": {
   "display_name": "Python 3",
   "language": "python",
   "name": "python3"
  },
  "language_info": {
   "codemirror_mode": {
    "name": "ipython",
    "version": 3
   },
   "file_extension": ".py",
   "mimetype": "text/x-python",
   "name": "python",
   "nbconvert_exporter": "python",
   "pygments_lexer": "ipython3",
   "version": "3.5.1+"
  }
 },
 "nbformat": 4,
 "nbformat_minor": 2
}
