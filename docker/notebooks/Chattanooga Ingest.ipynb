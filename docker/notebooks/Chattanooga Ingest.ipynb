{
 "cells": [
  {
   "cell_type": "code",
   "execution_count": 1,
   "metadata": {
    "collapsed": true
   },
   "outputs": [],
   "source": [
    "from pyspark import SparkContext\n",
    "from geopyspark.geopycontext import GeoPyContext\n",
    "from geopyspark.geotrellis.catalog import read, read_value, query, write\n",
    "from geopyspark.geotrellis.constants import SPATIAL, ZOOM, TILE\n",
    "from geopyspark.geotrellis.geotiff_rdd import get\n",
    "from geopyspark.geotrellis.rdd import RasterRDD, TiledRasterRDD\n",
    "from geonotebook.vis.geotrellis.render_methods import single_band_render_from_color_map\n",
    "from geonotebook.wrappers import GeoTrellisCatalogLayerData, RddRasterData\n",
    "import numpy as np"
   ]
  },
  {
   "cell_type": "code",
   "execution_count": 2,
   "metadata": {
    "collapsed": true
   },
   "outputs": [],
   "source": [
    "catalog_uri = \"file://home/hadoop/notebooks/catalog\""
   ]
  },
  {
   "cell_type": "code",
   "execution_count": null,
   "metadata": {},
   "outputs": [],
   "source": [
    "# Gather GeoTiffs\n",
    "\n",
    "!curl -o /tmp/DevelopedLand.tiff https://s3.amazonaws.com/chattademo/DevelopedLand.tiff\n",
    "!curl -o /tmp/FarmlandOrForestedLandsWithPrimeAgriculturalSoils.tiff https://s3.amazonaws.com/chattademo/FarmlandOrForestedLandsWithPrimeAgriculturalSoils.tiff\n",
    "!curl -o /tmp/FarmlandWithoutPrimeAgriculturalSoils.tiff.tiff https://s3.amazonaws.com/chattademo/FarmlandWithoutPrimeAgriculturalSoils.tiff.tiff\n",
    "!curl -o /tmp/ForestedLand.tiff https://s3.amazonaws.com/chattademo/ForestedLands.tiff\n",
    "!curl -o /tmp/ImperviousSurfacesBarrenLandsOpenWater.tiff https://s3.amazonaws.com/chattademo/ImperviousSurfacesBarrenLandsOpenWater.tiff\n",
    "!curl -o /tmp/NonWorkingProtectedOrPublicLands.tiff https://s3.amazonaws.com/chattademo/NonWorkingProtectedOrPublicLands.tiff\n",
    "!curl -o /tmp/PrimeAgriculturalSoilsNotForestedOrFarmland.tiff https://s3.amazonaws.com/chattademo/PrimeAgriculturalSoilsNotForestedOrFarmland.tiff\n",
    "!curl -o /tmp/PrivatelyOwnedWorkingLandsWithEasements.tiff https://s3.amazonaws.com/chattademo/PrivatelyOwnedWorkingLandsWithEasements.tiff\n",
    "!curl -o /tmp/PublicallyOwnedWorkingLands.tiff https://s3.amazonaws.com/chattademo/PublicallyOwnedWorkingLands.tiff\n",
    "!curl -o /tmp/Wetlands.tiff https://s3.amazonaws.com/chattademo/Wetlands.tiff\n"
   ]
  },
  {
   "cell_type": "code",
   "execution_count": 3,
   "metadata": {},
   "outputs": [],
   "source": [
    "layers = { \"developed-land\" : \"file:///tmp/DevelopedLand.tiff\",\n",
    "           \"prime-ag-soil\" : \"file:///tmp/FarmlandOrForestedLandWithPrimeAgriculturalSoils.tiff\",\n",
    "           \"not-prime-ag-soil\" : \"file:///tmp/FarmlandOrForestedLandsWithPrimeAgriculturalSoils.tiff\",\n",
    "           \"forested-lands\" : \"file:///tmp/ForestedLands.tiff\",\n",
    "           \"impervious\" : \"file:///tmp/ImperviousSurfacesBarrenLandsOpenWater.tiff\",\n",
    "           \"protected\" : \"file:///tmp/NonWorkingProtectedOrPublicLands.tiff\",\n",
    "           \"prime-ag-soil-notfarm\" : \"file:///tmp/PrimeAgriculturalSoilsNotForestedOrFarmland.tiff\",\n",
    "           \"private-with-easements\" : \"file:///tmp/PrivatelyOwnedWorkingLandsWithEasements.tiff\",\n",
    "           \"public-working-lands\" : \"file:///tmp/PublicallyOwnedWorkingLands.tiff\",\n",
    "           \"wetlands\" : \"file:///tmp/Wetlands.tiff\" }"
   ]
  },
  {
   "cell_type": "code",
   "execution_count": 4,
   "metadata": {},
   "outputs": [],
   "source": [
    "sc = SparkContext(appName=\"Chatta Ingest\")\n",
    "geopysc = GeoPyContext(sc)"
   ]
  },
  {
   "cell_type": "code",
   "execution_count": 5,
   "metadata": {
    "collapsed": true
   },
   "outputs": [],
   "source": [
    "def ingest_layer(layer_name, path):\n",
    "    rdd = get(geopysc, SPATIAL, path, maxTileSize=512, numPartitions=20)\n",
    "    metadata = rdd.collect_metadata(tile_size=512)\n",
    "    metadata['cellType'] = \"uint8\"\n",
    "    laid_out = rdd.tile_to_layout(metadata)\n",
    "    reprojected = laid_out.reproject(\"EPSG:3857\", scheme=ZOOM)\n",
    "    for layer_rdd in reprojected.pyramid(reprojected.zoom_level, 0):\n",
    "        write(catalog_uri, layer_name, layer_rdd)    "
   ]
  },
  {
   "cell_type": "code",
   "execution_count": 6,
   "metadata": {},
   "outputs": [
    {
     "name": "stdout",
     "output_type": "stream",
     "text": [
      "Ingesting not-prime-ag-soil at file:///tmp/FarmlandOrForestedLandsWithPrimeAgriculturalSoils.tiff\n"
     ]
    }
   ],
   "source": [
    "for layer in layers:\n",
    "    print(\"Ingesting %s at %s\" % (layer, layers[layer]))\n",
    "    ingest_layer(layer, layers[layer])\n"
   ]
  },
  {
   "cell_type": "code",
   "execution_count": null,
   "metadata": {},
   "outputs": [],
   "source": [
    "ingest_layer(\"developed-land\", layers['developed-land'])"
   ]
  },
  {
   "cell_type": "code",
   "execution_count": 7,
   "metadata": {},
   "outputs": [
    {
     "name": "stdout",
     "output_type": "stream",
     "text": [
      "---MESSAGE---\n",
      "<class 'dict'>\n",
      "{\"params\": [{\"required\": true, \"value\": -85.2935099666654, \"key\": \"x\"}, {\"required\": true, \"value\": 35.20529964318362, \"key\": \"y\"}, {\"required\": true, \"value\": 9, \"key\": \"z\"}], \"id\": \"31b94a51-936d-418e-a597-dc7b660839ce\", \"method\": \"set_center\", \"jsonrpc\": \"2.0\"}\n",
      "---END MESSAGE---\n"
     ]
    },
    {
     "data": {
      "text/plain": [
       "<promise.promise.Promise at 0x7fec977d91d0>"
      ]
     },
     "execution_count": 7,
     "metadata": {},
     "output_type": "execute_result"
    }
   ],
   "source": [
    "M.set_center(-85.2935099666654, 35.20529964318362, 9)"
   ]
  },
  {
   "cell_type": "code",
   "execution_count": 8,
   "metadata": {},
   "outputs": [
    {
     "name": "stdout",
     "output_type": "stream",
     "text": [
      "---MESSAGE---\n",
      "<class 'dict'>\n",
      "{\"params\": [{\"required\": true, \"value\": \"-1759210083788317921__not-prime-ag-soil\", \"key\": \"layer_name\"}, {\"required\": true, \"value\": \"http://localhost:8000/user/hadoop/geotrellis/53934\", \"key\": \"vis_url\"}, {\"required\": true, \"value\": {\"opacity\": 1.0, \"layer_type\": null, \"interval\": null, \"zIndex\": 0, \"attribution\": null, \"colormap\": [], \"projection\": \"EPSG:3857\", \"kernel_id\": \"4fa43155-de2e-4cd4-9103-a1556158eb88\", \"gamma\": 1.0}, \"key\": \"vis_params\"}, {\"required\": true, \"value\": {}, \"key\": \"query_params\"}], \"id\": \"b7aa6ed5-f09b-43f9-8a92-8b0b536f651e\", \"method\": \"add_layer\", \"jsonrpc\": \"2.0\"}\n",
      "---END MESSAGE---\n"
     ]
    },
    {
     "data": {
      "text/plain": [
       "<promise.promise.Promise at 0x7fec977deb38>"
      ]
     },
     "execution_count": 8,
     "metadata": {},
     "output_type": "execute_result"
    },
    {
     "name": "stderr",
     "output_type": "stream",
     "text": [
      "::1 - - [2017-05-14 00:20:13] \"GET /tile/9/134/202.png HTTP/1.1\" 200 8522 0.389050\n",
      "::1 - - [2017-05-14 00:20:13] \"GET /tile/9/135/202.png HTTP/1.1\" 200 9537 0.176852\n",
      "::1 - - [2017-05-14 00:20:14] \"GET /tile/9/134/201.png HTTP/1.1\" 200 3527 0.116992\n",
      "::1 - - [2017-05-14 00:20:14] \"GET /tile/9/134/203.png HTTP/1.1\" 200 7460 0.127817\n",
      "::1 - - [2017-05-14 00:20:14] \"GET /tile/9/135/201.png HTTP/1.1\" 200 4514 0.106432\n",
      "::1 - - [2017-05-14 00:20:14] \"GET /tile/9/135/203.png HTTP/1.1\" 200 3533 0.109641\n",
      "::1 - - [2017-05-14 00:20:14] \"GET /tile/9/136/202.png HTTP/1.1\" 200 583 0.160028\n",
      "::1 - - [2017-05-14 00:20:14] \"GET /tile/9/133/202.png HTTP/1.1\" 200 1823 0.113096\n",
      "::1 - - [2017-05-14 00:20:14] \"GET /tile/9/133/201.png HTTP/1.1\" 200 436 0.150071\n",
      "::1 - - [2017-05-14 00:20:15] \"GET /tile/9/133/203.png HTTP/1.1\" 200 10921 0.109407\n",
      "::1 - - [2017-05-14 00:20:15] \"GET /tile/9/136/201.png HTTP/1.1\" 200 436 0.103508\n",
      "::1 - - [2017-05-14 00:20:15] \"GET /tile/9/136/203.png HTTP/1.1\" 200 436 0.114002\n",
      "::1 - - [2017-05-14 00:20:15] \"GET /tile/9/135/204.png HTTP/1.1\" 200 436 0.103378\n",
      "::1 - - [2017-05-14 00:20:15] \"GET /tile/9/134/204.png HTTP/1.1\" 200 525 0.106879\n",
      "::1 - - [2017-05-14 00:20:15] \"GET /tile/9/134/200.png HTTP/1.1\" 500 2956 0.011261\n",
      "::1 - - [2017-05-14 00:20:15] \"GET /tile/9/135/200.png HTTP/1.1\" 500 2956 0.009352\n",
      "::1 - - [2017-05-14 00:20:15] \"GET /tile/9/133/200.png HTTP/1.1\" 500 2794 0.010776\n",
      "::1 - - [2017-05-14 00:20:15] \"GET /tile/9/133/204.png HTTP/1.1\" 200 2027 0.100315\n",
      "::1 - - [2017-05-14 00:20:15] \"GET /tile/9/136/200.png HTTP/1.1\" 500 2794 0.006922\n",
      "::1 - - [2017-05-14 00:20:15] \"GET /tile/9/136/204.png HTTP/1.1\" 200 436 0.114276\n",
      "::1 - - [2017-05-14 00:20:17] \"GET /tile/9/132/203.png HTTP/1.1\" 200 436 0.123495\n",
      "::1 - - [2017-05-14 00:20:17] \"GET /tile/9/132/202.png HTTP/1.1\" 200 436 0.103097\n",
      "::1 - - [2017-05-14 00:20:17] \"GET /tile/9/132/201.png HTTP/1.1\" 200 436 0.104286\n",
      "::1 - - [2017-05-14 00:20:17] \"GET /tile/9/132/204.png HTTP/1.1\" 200 436 0.104474\n",
      "::1 - - [2017-05-14 00:20:18] \"GET /tile/13/2150/3248.png HTTP/1.1\" 200 2713 0.118631\n",
      "::1 - - [2017-05-14 00:20:18] \"GET /tile/13/2151/3248.png HTTP/1.1\" 200 2534 0.158437\n",
      "::1 - - [2017-05-14 00:20:19] \"GET /tile/13/2150/3247.png HTTP/1.1\" 200 2335 0.107266\n",
      "::1 - - [2017-05-14 00:20:19] \"GET /tile/13/2150/3249.png HTTP/1.1\" 200 1666 0.104950\n",
      "::1 - - [2017-05-14 00:20:19] \"GET /tile/13/2151/3247.png HTTP/1.1\" 200 1995 0.314475\n",
      "::1 - - [2017-05-14 00:20:19] \"GET /tile/13/2151/3249.png HTTP/1.1\" 200 2278 0.096650\n",
      "::1 - - [2017-05-14 00:20:19] \"GET /tile/13/2142/3254.png HTTP/1.1\" 200 5683 0.118256\n",
      "::1 - - [2017-05-14 00:20:19] \"GET /tile/13/2141/3254.png HTTP/1.1\" 200 4090 0.117542\n",
      "::1 - - [2017-05-14 00:20:20] \"GET /tile/13/2142/3253.png HTTP/1.1\" 200 5720 0.117208\n",
      "::1 - - [2017-05-14 00:20:20] \"GET /tile/13/2142/3255.png HTTP/1.1\" 200 6112 0.107489\n",
      "::1 - - [2017-05-14 00:20:20] \"GET /tile/13/2143/3254.png HTTP/1.1\" 200 5393 0.125066\n",
      "::1 - - [2017-05-14 00:20:20] \"GET /tile/13/2141/3255.png HTTP/1.1\" 200 6446 0.132786\n",
      "::1 - - [2017-05-14 00:20:20] \"GET /tile/13/2141/3253.png HTTP/1.1\" 200 4139 0.140951\n",
      "::1 - - [2017-05-14 00:20:20] \"GET /tile/13/2143/3253.png HTTP/1.1\" 200 5660 0.128479\n",
      "::1 - - [2017-05-14 00:20:20] \"GET /tile/13/2143/3255.png HTTP/1.1\" 200 6193 0.134952\n",
      "::1 - - [2017-05-14 00:20:20] \"GET /tile/13/2142/3252.png HTTP/1.1\" 200 4292 0.121083\n",
      "::1 - - [2017-05-14 00:20:21] \"GET /tile/13/2144/3254.png HTTP/1.1\" 200 5982 0.164858\n",
      "::1 - - [2017-05-14 00:20:21] \"GET /tile/13/2142/3256.png HTTP/1.1\" 200 5771 0.152502\n",
      "::1 - - [2017-05-14 00:20:21] \"GET /tile/13/2140/3254.png HTTP/1.1\" 200 2385 0.145877\n",
      "::1 - - [2017-05-14 00:20:21] \"GET /tile/13/2143/3252.png HTTP/1.1\" 200 4105 0.159751\n",
      "::1 - - [2017-05-14 00:20:21] \"GET /tile/13/2140/3255.png HTTP/1.1\" 200 6427 0.150404\n",
      "::1 - - [2017-05-14 00:20:21] \"GET /tile/13/2141/3252.png HTTP/1.1\" 200 3897 0.151131\n",
      "::1 - - [2017-05-14 00:20:22] \"GET /tile/13/2141/3256.png HTTP/1.1\" 200 5727 0.148906\n",
      "::1 - - [2017-05-14 00:20:22] \"GET /tile/13/2143/3256.png HTTP/1.1\" 200 5844 0.147289\n",
      "::1 - - [2017-05-14 00:20:22] \"GET /tile/13/2144/3253.png HTTP/1.1\" 200 5192 0.155002\n",
      "::1 - - [2017-05-14 00:20:22] \"GET /tile/13/2144/3255.png HTTP/1.1\" 200 6287 0.098068\n",
      "::1 - - [2017-05-14 00:20:22] \"GET /tile/13/2140/3253.png HTTP/1.1\" 200 3561 0.093853\n",
      "::1 - - [2017-05-14 00:20:22] \"GET /tile/13/2140/3256.png HTTP/1.1\" 200 5758 0.105022\n",
      "::1 - - [2017-05-14 00:20:22] \"GET /tile/13/2140/3252.png HTTP/1.1\" 200 5318 0.139355\n",
      "::1 - - [2017-05-14 00:20:22] \"GET /tile/13/2144/3252.png HTTP/1.1\" 200 4410 0.152869\n",
      "::1 - - [2017-05-14 00:20:23] \"GET /tile/13/2144/3256.png HTTP/1.1\" 200 6090 0.157656\n",
      "::1 - - [2017-05-14 00:20:23] \"GET /tile/13/2152/3248.png HTTP/1.1\" 200 1320 0.141425\n",
      "::1 - - [2017-05-14 00:20:23] \"GET /tile/13/2149/3248.png HTTP/1.1\" 200 3048 0.098269\n",
      "::1 - - [2017-05-14 00:20:23] \"GET /tile/13/2149/3249.png HTTP/1.1\" 200 2235 0.104535\n",
      "::1 - - [2017-05-14 00:20:23] \"GET /tile/13/2152/3249.png HTTP/1.1\" 200 1221 0.094318\n",
      "::1 - - [2017-05-14 00:20:23] \"GET /tile/13/2152/3247.png HTTP/1.1\" 200 1360 0.093941\n",
      "::1 - - [2017-05-14 00:20:23] \"GET /tile/13/2149/3247.png HTTP/1.1\" 200 3447 0.098196\n",
      "::1 - - [2017-05-14 00:20:23] \"GET /tile/13/2151/3250.png HTTP/1.1\" 200 3122 0.097072\n",
      "::1 - - [2017-05-14 00:20:24] \"GET /tile/13/2150/3246.png HTTP/1.1\" 200 1747 0.144343\n",
      "::1 - - [2017-05-14 00:20:24] \"GET /tile/13/2151/3246.png HTTP/1.1\" 200 2229 0.146234\n",
      "::1 - - [2017-05-14 00:20:24] \"GET /tile/13/2150/3250.png HTTP/1.1\" 200 2838 0.142146\n",
      "::1 - - [2017-05-14 00:20:24] \"GET /tile/13/2152/3246.png HTTP/1.1\" 200 1286 0.135946\n",
      "::1 - - [2017-05-14 00:20:24] \"GET /tile/13/2153/3248.png HTTP/1.1\" 200 1669 0.142995\n",
      "::1 - - [2017-05-14 00:20:24] \"GET /tile/13/2149/3246.png HTTP/1.1\" 200 2059 0.149945\n",
      "::1 - - [2017-05-14 00:20:24] \"GET /tile/13/2149/3250.png HTTP/1.1\" 200 2100 0.153206\n",
      "::1 - - [2017-05-14 00:20:25] \"GET /tile/13/2152/3250.png HTTP/1.1\" 200 3053 0.152775\n",
      "::1 - - [2017-05-14 00:20:25] \"GET /tile/13/2148/3248.png HTTP/1.1\" 200 4097 0.152195\n",
      "::1 - - [2017-05-14 00:20:25] \"GET /tile/13/2148/3249.png HTTP/1.1\" 200 5425 0.107169\n",
      "::1 - - [2017-05-14 00:20:25] \"GET /tile/13/2153/3247.png HTTP/1.1\" 200 1765 0.141728\n",
      "::1 - - [2017-05-14 00:20:25] \"GET /tile/13/2153/3249.png HTTP/1.1\" 200 1455 0.097858\n",
      "::1 - - [2017-05-14 00:20:25] \"GET /tile/13/2148/3247.png HTTP/1.1\" 200 3768 0.091942\n",
      "::1 - - [2017-05-14 00:20:25] \"GET /tile/13/2148/3246.png HTTP/1.1\" 200 3617 0.090016\n",
      "::1 - - [2017-05-14 00:20:25] \"GET /tile/13/2148/3250.png HTTP/1.1\" 200 4100 0.091128\n",
      "::1 - - [2017-05-14 00:20:26] \"GET /tile/13/2153/3246.png HTTP/1.1\" 200 1910 0.088029\n",
      "::1 - - [2017-05-14 00:20:26] \"GET /tile/13/2153/3250.png HTTP/1.1\" 200 3011 0.092123\n",
      "::1 - - [2017-05-14 00:20:28] \"GET /tile/13/2145/3253.png HTTP/1.1\" 200 6263 0.117411\n",
      "::1 - - [2017-05-14 00:20:28] \"GET /tile/13/2145/3254.png HTTP/1.1\" 200 6746 0.160559\n",
      "::1 - - [2017-05-14 00:20:28] \"GET /tile/13/2145/3252.png HTTP/1.1\" 200 5403 0.111998\n",
      "::1 - - [2017-05-14 00:20:28] \"GET /tile/13/2143/3251.png HTTP/1.1\" 200 1622 0.109723\n",
      "::1 - - [2017-05-14 00:20:28] \"GET /tile/13/2145/3255.png HTTP/1.1\" 200 5559 0.121799\n",
      "::1 - - [2017-05-14 00:20:28] \"GET /tile/13/2144/3251.png HTTP/1.1\" 200 2692 0.109406\n",
      "::1 - - [2017-05-14 00:20:28] \"GET /tile/13/2145/3251.png HTTP/1.1\" 200 3644 0.097230\n",
      "::1 - - [2017-05-14 00:20:29] \"GET /tile/13/2144/3250.png HTTP/1.1\" 200 3044 0.106299\n",
      "::1 - - [2017-05-14 00:20:29] \"GET /tile/13/2146/3252.png HTTP/1.1\" 200 5586 0.095554\n",
      "::1 - - [2017-05-14 00:20:29] \"GET /tile/13/2145/3250.png HTTP/1.1\" 200 3560 0.099970\n",
      "::1 - - [2017-05-14 00:20:29] \"GET /tile/13/2143/3250.png HTTP/1.1\" 200 3067 0.111014\n",
      "::1 - - [2017-05-14 00:20:29] \"GET /tile/13/2146/3251.png HTTP/1.1\" 200 4461 0.094932\n",
      "::1 - - [2017-05-14 00:20:29] \"GET /tile/13/2146/3253.png HTTP/1.1\" 200 6619 0.100769\n",
      "::1 - - [2017-05-14 00:20:29] \"GET /tile/13/2142/3251.png HTTP/1.1\" 200 3462 0.092331\n",
      "::1 - - [2017-05-14 00:20:29] \"GET /tile/13/2142/3250.png HTTP/1.1\" 200 4512 0.099048\n",
      "::1 - - [2017-05-14 00:20:29] \"GET /tile/13/2146/3250.png HTTP/1.1\" 200 3834 0.090039\n",
      "::1 - - [2017-05-14 00:20:30] \"GET /tile/13/2146/3254.png HTTP/1.1\" 200 6035 0.095898\n",
      "::1 - - [2017-05-14 00:20:30] \"GET /tile/13/2146/3255.png HTTP/1.1\" 200 4637 0.094827\n"
     ]
    },
    {
     "name": "stderr",
     "output_type": "stream",
     "text": [
      "::1 - - [2017-05-14 00:20:30] \"GET /tile/13/2141/3251.png HTTP/1.1\" 200 4786 0.093942\n",
      "::1 - - [2017-05-14 00:20:30] \"GET /tile/13/2145/3256.png HTTP/1.1\" 200 6340 0.092449\n",
      "::1 - - [2017-05-14 00:20:32] \"GET /tile/16/17156/26021.png HTTP/1.1\" 500 4136 0.011108\n",
      "::1 - - [2017-05-14 00:20:32] \"GET /tile/16/17156/26022.png HTTP/1.1\" 500 4136 0.005935\n",
      "::1 - - [2017-05-14 00:20:32] \"GET /tile/16/17157/26021.png HTTP/1.1\" 500 4136 0.003362\n",
      "::1 - - [2017-05-14 00:20:32] \"GET /tile/16/17157/26022.png HTTP/1.1\" 500 4136 0.006135\n",
      "::1 - - [2017-05-14 00:20:32] \"GET /tile/16/17155/26021.png HTTP/1.1\" 500 4136 0.006384\n",
      "::1 - - [2017-05-14 00:20:32] \"GET /tile/16/17156/26023.png HTTP/1.1\" 500 4136 0.005192\n",
      "::1 - - [2017-05-14 00:20:32] \"GET /tile/16/17155/26011.png HTTP/1.1\" 500 4136 0.006772\n",
      "::1 - - [2017-05-14 00:20:32] \"GET /tile/16/17155/26012.png HTTP/1.1\" 500 4136 0.005203\n",
      "::1 - - [2017-05-14 00:20:32] \"GET /tile/16/17156/26011.png HTTP/1.1\" 500 4136 0.004818\n",
      "::1 - - [2017-05-14 00:20:32] \"GET /tile/16/17156/26012.png HTTP/1.1\" 500 4136 0.005569\n",
      "::1 - - [2017-05-14 00:20:32] \"GET /tile/16/17154/26011.png HTTP/1.1\" 500 4136 0.005734\n",
      "::1 - - [2017-05-14 00:20:32] \"GET /tile/16/17155/26013.png HTTP/1.1\" 500 4136 0.003451\n",
      "::1 - - [2017-05-14 00:20:32] \"GET /tile/16/17154/26012.png HTTP/1.1\" 500 4136 0.006419\n",
      "::1 - - [2017-05-14 00:20:32] \"GET /tile/16/17156/26010.png HTTP/1.1\" 500 4136 0.004081\n",
      "::1 - - [2017-05-14 00:20:32] \"GET /tile/16/17155/26010.png HTTP/1.1\" 500 4136 0.007279\n",
      "::1 - - [2017-05-14 00:20:32] \"GET /tile/16/17156/26013.png HTTP/1.1\" 500 4136 0.005067\n",
      "::1 - - [2017-05-14 00:20:32] \"GET /tile/16/17157/26011.png HTTP/1.1\" 500 4136 0.008546\n",
      "::1 - - [2017-05-14 00:20:32] \"GET /tile/16/17157/26012.png HTTP/1.1\" 500 4136 0.004126\n",
      "::1 - - [2017-05-14 00:20:32] \"GET /tile/16/17157/26010.png HTTP/1.1\" 500 4136 0.005410\n",
      "::1 - - [2017-05-14 00:20:32] \"GET /tile/16/17154/26010.png HTTP/1.1\" 500 4136 0.006896\n",
      "::1 - - [2017-05-14 00:20:32] \"GET /tile/16/17154/26013.png HTTP/1.1\" 500 4136 0.005300\n",
      "::1 - - [2017-05-14 00:20:32] \"GET /tile/16/17157/26013.png HTTP/1.1\" 500 4136 0.006577\n",
      "::1 - - [2017-05-14 00:20:32] \"GET /tile/16/17155/26022.png HTTP/1.1\" 500 4136 0.006120\n",
      "::1 - - [2017-05-14 00:20:32] \"GET /tile/16/17157/26020.png HTTP/1.1\" 500 4136 0.005904\n",
      "::1 - - [2017-05-14 00:20:32] \"GET /tile/16/17156/26020.png HTTP/1.1\" 500 4136 0.005300\n",
      "::1 - - [2017-05-14 00:20:32] \"GET /tile/16/17157/26023.png HTTP/1.1\" 500 4136 0.005174\n",
      "::1 - - [2017-05-14 00:20:32] \"GET /tile/16/17158/26021.png HTTP/1.1\" 500 4136 0.006524\n",
      "::1 - - [2017-05-14 00:20:32] \"GET /tile/16/17158/26022.png HTTP/1.1\" 500 4136 0.007365\n",
      "::1 - - [2017-05-14 00:20:32] \"GET /tile/16/17158/26020.png HTTP/1.1\" 500 4136 0.003049\n",
      "::1 - - [2017-05-14 00:20:32] \"GET /tile/16/17155/26020.png HTTP/1.1\" 500 4136 0.007493\n",
      "::1 - - [2017-05-14 00:20:32] \"GET /tile/16/17155/26023.png HTTP/1.1\" 500 4136 0.006840\n",
      "::1 - - [2017-05-14 00:20:32] \"GET /tile/16/17158/26023.png HTTP/1.1\" 500 4136 0.006668\n",
      "::1 - - [2017-05-14 00:20:34] \"GET /tile/16/17158/26012.png HTTP/1.1\" 500 4136 0.005803\n",
      "::1 - - [2017-05-14 00:20:34] \"GET /tile/16/17156/26014.png HTTP/1.1\" 500 4136 0.007033\n",
      "::1 - - [2017-05-14 00:20:34] \"GET /tile/16/17155/26014.png HTTP/1.1\" 500 4136 0.003262\n",
      "::1 - - [2017-05-14 00:20:34] \"GET /tile/16/17157/26014.png HTTP/1.1\" 500 4136 0.006026\n",
      "::1 - - [2017-05-14 00:20:34] \"GET /tile/16/17158/26011.png HTTP/1.1\" 500 4136 0.006638\n",
      "::1 - - [2017-05-14 00:20:34] \"GET /tile/16/17158/26013.png HTTP/1.1\" 500 4136 0.014434\n",
      "::1 - - [2017-05-14 00:20:34] \"GET /tile/16/17154/26014.png HTTP/1.1\" 500 4136 0.005805\n",
      "::1 - - [2017-05-14 00:20:34] \"GET /tile/15/8577/13005.png HTTP/1.1\" 500 4136 0.008570\n",
      "::1 - - [2017-05-14 00:20:34] \"GET /tile/15/8577/13006.png HTTP/1.1\" 500 4136 0.006996\n",
      "::1 - - [2017-05-14 00:20:34] \"GET /tile/15/8578/13005.png HTTP/1.1\" 500 4136 0.003465\n",
      "::1 - - [2017-05-14 00:20:34] \"GET /tile/15/8578/13006.png HTTP/1.1\" 500 4136 0.005960\n",
      "::1 - - [2017-05-14 00:20:34] \"GET /tile/15/8576/13005.png HTTP/1.1\" 500 4136 0.003314\n",
      "::1 - - [2017-05-14 00:20:34] \"GET /tile/15/8577/13007.png HTTP/1.1\" 500 4136 0.008202\n",
      "::1 - - [2017-05-14 00:20:34] \"GET /tile/15/8576/13006.png HTTP/1.1\" 500 4136 0.007712\n",
      "::1 - - [2017-05-14 00:20:34] \"GET /tile/15/8578/13004.png HTTP/1.1\" 500 4136 0.005400\n",
      "::1 - - [2017-05-14 00:20:34] \"GET /tile/15/8577/13004.png HTTP/1.1\" 500 4136 0.005736\n",
      "::1 - - [2017-05-14 00:20:34] \"GET /tile/15/8578/13007.png HTTP/1.1\" 500 4136 0.004623\n",
      "::1 - - [2017-05-14 00:20:34] \"GET /tile/15/8579/13005.png HTTP/1.1\" 500 4136 0.006937\n",
      "::1 - - [2017-05-14 00:20:34] \"GET /tile/15/8579/13006.png HTTP/1.1\" 500 4136 0.010553\n",
      "::1 - - [2017-05-14 00:20:34] \"GET /tile/15/8579/13004.png HTTP/1.1\" 500 4136 0.004900\n",
      "::1 - - [2017-05-14 00:20:34] \"GET /tile/15/8576/13004.png HTTP/1.1\" 500 4136 0.004234\n",
      "::1 - - [2017-05-14 00:20:35] \"GET /tile/15/8576/13007.png HTTP/1.1\" 500 4136 0.005142\n",
      "::1 - - [2017-05-14 00:20:35] \"GET /tile/15/8579/13007.png HTTP/1.1\" 500 4136 0.005480\n",
      "::1 - - [2017-05-14 00:20:35] \"GET /tile/16/17158/26010.png HTTP/1.1\" 500 4136 0.006088\n",
      "::1 - - [2017-05-14 00:20:35] \"GET /tile/16/17158/26014.png HTTP/1.1\" 500 4136 0.004195\n",
      "::1 - - [2017-05-14 00:20:37] \"GET /tile/15/8577/13003.png HTTP/1.1\" 500 4136 0.005698\n",
      "::1 - - [2017-05-14 00:20:37] \"GET /tile/15/8578/13003.png HTTP/1.1\" 500 4136 0.005569\n",
      "::1 - - [2017-05-14 00:20:37] \"GET /tile/15/8576/13003.png HTTP/1.1\" 500 4136 0.006419\n",
      "::1 - - [2017-05-14 00:20:37] \"GET /tile/15/8579/13003.png HTTP/1.1\" 500 4136 0.004370\n",
      "::1 - - [2017-05-14 00:20:37] \"GET /tile/15/8575/13005.png HTTP/1.1\" 500 4136 0.005416\n",
      "::1 - - [2017-05-14 00:20:37] \"GET /tile/15/8578/13008.png HTTP/1.1\" 500 4136 0.003418\n",
      "::1 - - [2017-05-14 00:20:37] \"GET /tile/15/8577/13008.png HTTP/1.1\" 500 4136 0.007023\n",
      "::1 - - [2017-05-14 00:20:37] \"GET /tile/15/8575/13006.png HTTP/1.1\" 500 4136 0.004630\n",
      "::1 - - [2017-05-14 00:20:37] \"GET /tile/15/8580/13005.png HTTP/1.1\" 500 4136 0.005423\n",
      "::1 - - [2017-05-14 00:20:37] \"GET /tile/15/8580/13006.png HTTP/1.1\" 500 4136 0.008369\n",
      "::1 - - [2017-05-14 00:20:38] \"GET /tile/14/4288/6502.png HTTP/1.1\" 500 4136 0.011959\n",
      "::1 - - [2017-05-14 00:20:38] \"GET /tile/14/4288/6503.png HTTP/1.1\" 500 4136 0.005818\n",
      "::1 - - [2017-05-14 00:20:38] \"GET /tile/14/4289/6502.png HTTP/1.1\" 500 4136 0.004291\n",
      "::1 - - [2017-05-14 00:20:38] \"GET /tile/14/4289/6503.png HTTP/1.1\" 500 4136 0.005640\n",
      "::1 - - [2017-05-14 00:20:38] \"GET /tile/14/4287/6502.png HTTP/1.1\" 500 4136 0.007003\n",
      "::1 - - [2017-05-14 00:20:38] \"GET /tile/14/4288/6504.png HTTP/1.1\" 500 4136 0.011419\n",
      "::1 - - [2017-05-14 00:20:38] \"GET /tile/14/4287/6503.png HTTP/1.1\" 500 4136 0.011508\n",
      "::1 - - [2017-05-14 00:20:38] \"GET /tile/14/4289/6501.png HTTP/1.1\" 500 4136 0.007118\n",
      "::1 - - [2017-05-14 00:20:38] \"GET /tile/14/4288/6501.png HTTP/1.1\" 500 4136 0.006578\n",
      "::1 - - [2017-05-14 00:20:38] \"GET /tile/14/4289/6504.png HTTP/1.1\" 500 4136 0.005592\n",
      "::1 - - [2017-05-14 00:20:38] \"GET /tile/14/4290/6502.png HTTP/1.1\" 500 4136 0.004587\n",
      "::1 - - [2017-05-14 00:20:38] \"GET /tile/14/4290/6503.png HTTP/1.1\" 500 4136 0.003623\n",
      "::1 - - [2017-05-14 00:20:38] \"GET /tile/14/4290/6501.png HTTP/1.1\" 500 4136 0.006103\n",
      "::1 - - [2017-05-14 00:20:38] \"GET /tile/14/4287/6504.png HTTP/1.1\" 500 4136 0.008393\n",
      "::1 - - [2017-05-14 00:20:38] \"GET /tile/14/4290/6504.png HTTP/1.1\" 500 4136 0.008926\n",
      "::1 - - [2017-05-14 00:20:38] \"GET /tile/14/4287/6501.png HTTP/1.1\" 500 4136 0.004869\n",
      "::1 - - [2017-05-14 00:20:38] \"GET /tile/14/4286/6502.png HTTP/1.1\" 500 4136 0.006037\n",
      "::1 - - [2017-05-14 00:20:38] \"GET /tile/14/4289/6505.png HTTP/1.1\" 500 4136 0.004798\n",
      "::1 - - [2017-05-14 00:20:38] \"GET /tile/14/4289/6500.png HTTP/1.1\" 500 4136 0.004565\n",
      "::1 - - [2017-05-14 00:20:38] \"GET /tile/14/4288/6500.png HTTP/1.1\" 500 4136 0.004970\n",
      "::1 - - [2017-05-14 00:20:38] \"GET /tile/14/4288/6505.png HTTP/1.1\" 500 4136 0.005711\n",
      "::1 - - [2017-05-14 00:20:38] \"GET /tile/14/4286/6503.png HTTP/1.1\" 500 4136 0.003618\n",
      "::1 - - [2017-05-14 00:20:38] \"GET /tile/14/4291/6502.png HTTP/1.1\" 500 4136 0.005088\n",
      "::1 - - [2017-05-14 00:20:38] \"GET /tile/14/4291/6503.png HTTP/1.1\" 500 4136 0.002945\n",
      "::1 - - [2017-05-14 00:20:38] \"GET /tile/14/4287/6500.png HTTP/1.1\" 500 4136 0.006438\n",
      "::1 - - [2017-05-14 00:20:38] \"GET /tile/13/2144/3249.png HTTP/1.1\" 200 2543 0.161093\n"
     ]
    },
    {
     "name": "stderr",
     "output_type": "stream",
     "text": [
      "::1 - - [2017-05-14 00:20:39] \"GET /tile/13/2145/3249.png HTTP/1.1\" 200 5094 0.149409\n",
      "::1 - - [2017-05-14 00:20:39] \"GET /tile/13/2143/3249.png HTTP/1.1\" 200 5104 0.099926\n",
      "::1 - - [2017-05-14 00:20:39] \"GET /tile/14/4291/6504.png HTTP/1.1\" 500 4136 0.004362\n",
      "::1 - - [2017-05-14 00:20:39] \"GET /tile/14/4287/6505.png HTTP/1.1\" 500 4136 0.004162\n",
      "::1 - - [2017-05-14 00:20:39] \"GET /tile/14/4290/6505.png HTTP/1.1\" 500 4136 0.005837\n",
      "::1 - - [2017-05-14 00:20:39] \"GET /tile/14/4291/6501.png HTTP/1.1\" 500 4136 0.003030\n",
      "::1 - - [2017-05-14 00:20:39] \"GET /tile/14/4290/6500.png HTTP/1.1\" 500 4136 0.005362\n",
      "::1 - - [2017-05-14 00:20:39] \"GET /tile/14/4286/6504.png HTTP/1.1\" 500 4136 0.003485\n",
      "::1 - - [2017-05-14 00:20:39] \"GET /tile/14/4286/6501.png HTTP/1.1\" 500 4136 0.005452\n",
      "::1 - - [2017-05-14 00:20:39] \"GET /tile/14/4286/6505.png HTTP/1.1\" 500 4136 0.003159\n",
      "::1 - - [2017-05-14 00:20:39] \"GET /tile/14/4291/6500.png HTTP/1.1\" 500 4136 0.005346\n",
      "::1 - - [2017-05-14 00:20:39] \"GET /tile/14/4286/6500.png HTTP/1.1\" 500 4136 0.004879\n",
      "::1 - - [2017-05-14 00:20:39] \"GET /tile/14/4291/6505.png HTTP/1.1\" 500 4136 0.006007\n",
      "::1 - - [2017-05-14 00:20:39] \"GET /tile/15/8580/13007.png HTTP/1.1\" 500 4136 0.006785\n",
      "::1 - - [2017-05-14 00:20:39] \"GET /tile/15/8576/13008.png HTTP/1.1\" 500 4136 0.004838\n",
      "::1 - - [2017-05-14 00:20:39] \"GET /tile/15/8579/13008.png HTTP/1.1\" 500 4136 0.006434\n",
      "::1 - - [2017-05-14 00:20:39] \"GET /tile/15/8580/13004.png HTTP/1.1\" 500 4136 0.005868\n",
      "::1 - - [2017-05-14 00:20:39] \"GET /tile/15/8575/13007.png HTTP/1.1\" 500 4136 0.005276\n",
      "::1 - - [2017-05-14 00:20:39] \"GET /tile/15/8575/13004.png HTTP/1.1\" 500 4136 0.003198\n",
      "::1 - - [2017-05-14 00:20:39] \"GET /tile/15/8575/13008.png HTTP/1.1\" 500 4136 0.008079\n",
      "::1 - - [2017-05-14 00:20:39] \"GET /tile/15/8580/13003.png HTTP/1.1\" 500 4136 0.003764\n",
      "::1 - - [2017-05-14 00:20:39] \"GET /tile/15/8575/13003.png HTTP/1.1\" 500 4136 0.005372\n",
      "::1 - - [2017-05-14 00:20:39] \"GET /tile/15/8580/13008.png HTTP/1.1\" 500 4136 0.006085\n",
      "::1 - - [2017-05-14 00:20:41] \"GET /tile/13/2146/3249.png HTTP/1.1\" 200 3276 0.193956\n",
      "::1 - - [2017-05-14 00:20:41] \"GET /tile/13/2142/3249.png HTTP/1.1\" 200 4479 0.124413\n",
      "::1 - - [2017-05-14 00:20:42] \"GET /tile/12/1072/1625.png HTTP/1.1\" 200 6362 0.185139\n",
      "::1 - - [2017-05-14 00:20:42] \"GET /tile/12/1071/1625.png HTTP/1.1\" 200 6364 0.110093\n",
      "::1 - - [2017-05-14 00:20:42] \"GET /tile/12/1072/1624.png HTTP/1.1\" 200 8467 0.136025\n",
      "::1 - - [2017-05-14 00:20:42] \"GET /tile/12/1072/1626.png HTTP/1.1\" 200 11197 0.154341\n",
      "::1 - - [2017-05-14 00:20:42] \"GET /tile/12/1073/1625.png HTTP/1.1\" 200 10045 0.100046\n",
      "::1 - - [2017-05-14 00:20:42] \"GET /tile/12/1071/1626.png HTTP/1.1\" 200 10348 0.107970\n",
      "::1 - - [2017-05-14 00:20:42] \"GET /tile/11/535/812.png HTTP/1.1\" 200 11914 0.102535\n",
      "::1 - - [2017-05-14 00:20:42] \"GET /tile/11/536/812.png HTTP/1.1\" 200 11598 0.120938\n",
      "::1 - - [2017-05-14 00:20:43] \"GET /tile/11/536/811.png HTTP/1.1\" 200 11645 0.103161\n",
      "::1 - - [2017-05-14 00:20:43] \"GET /tile/11/535/811.png HTTP/1.1\" 200 6003 0.098167\n",
      "::1 - - [2017-05-14 00:20:43] \"GET /tile/11/535/813.png HTTP/1.1\" 200 15086 0.100609\n",
      "::1 - - [2017-05-14 00:20:43] \"GET /tile/11/536/813.png HTTP/1.1\" 200 16332 0.106600\n",
      "::1 - - [2017-05-14 00:20:43] \"GET /tile/11/534/812.png HTTP/1.1\" 200 8216 0.102592\n",
      "::1 - - [2017-05-14 00:20:43] \"GET /tile/11/537/812.png HTTP/1.1\" 200 7513 0.103377\n",
      "::1 - - [2017-05-14 00:20:43] \"GET /tile/11/534/813.png HTTP/1.1\" 200 11280 0.107042\n",
      "::1 - - [2017-05-14 00:20:43] \"GET /tile/11/537/811.png HTTP/1.1\" 200 5647 0.096857\n",
      "::1 - - [2017-05-14 00:20:43] \"GET /tile/11/534/811.png HTTP/1.1\" 200 2388 0.099644\n",
      "::1 - - [2017-05-14 00:20:44] \"GET /tile/11/537/813.png HTTP/1.1\" 200 8897 0.145073\n",
      "::1 - - [2017-05-14 00:20:44] \"GET /tile/12/1071/1624.png HTTP/1.1\" 200 9332 0.126939\n",
      "::1 - - [2017-05-14 00:20:44] \"GET /tile/12/1073/1624.png HTTP/1.1\" 200 7542 0.102715\n",
      "::1 - - [2017-05-14 00:20:44] \"GET /tile/12/1073/1626.png HTTP/1.1\" 200 12225 0.101880\n",
      "::1 - - [2017-05-14 00:20:44] \"GET /tile/12/1072/1623.png HTTP/1.1\" 200 8517 0.098717\n",
      "::1 - - [2017-05-14 00:20:44] \"GET /tile/12/1074/1625.png HTTP/1.1\" 200 5481 0.122086\n",
      "::1 - - [2017-05-14 00:20:44] \"GET /tile/11/535/814.png HTTP/1.1\" 200 17243 0.116115\n",
      "::1 - - [2017-05-14 00:20:44] \"GET /tile/11/536/814.png HTTP/1.1\" 200 12341 0.100626\n",
      "::1 - - [2017-05-14 00:20:45] \"GET /tile/11/534/814.png HTTP/1.1\" 200 11456 0.134558\n",
      "::1 - - [2017-05-14 00:20:45] \"GET /tile/11/537/814.png HTTP/1.1\" 200 4419 0.131729\n",
      "::1 - - [2017-05-14 00:20:45] \"GET /tile/12/1072/1627.png HTTP/1.1\" 200 12692 0.100551\n",
      "::1 - - [2017-05-14 00:20:45] \"GET /tile/12/1070/1625.png HTTP/1.1\" 200 9911 0.092252\n",
      "::1 - - [2017-05-14 00:20:45] \"GET /tile/12/1073/1623.png HTTP/1.1\" 200 8739 0.101312\n",
      "::1 - - [2017-05-14 00:20:45] \"GET /tile/12/1070/1626.png HTTP/1.1\" 200 8562 0.095829\n",
      "::1 - - [2017-05-14 00:20:45] \"GET /tile/12/1071/1623.png HTTP/1.1\" 200 5245 0.098976\n",
      "::1 - - [2017-05-14 00:20:45] \"GET /tile/12/1071/1627.png HTTP/1.1\" 200 12195 0.100870\n",
      "::1 - - [2017-05-14 00:20:45] \"GET /tile/12/1073/1627.png HTTP/1.1\" 200 10689 0.101970\n",
      "::1 - - [2017-05-14 00:20:46] \"GET /tile/12/1074/1624.png HTTP/1.1\" 200 7513 0.169793\n",
      "::1 - - [2017-05-14 00:20:46] \"GET /tile/12/1074/1626.png HTTP/1.1\" 200 5836 0.177880\n",
      "::1 - - [2017-05-14 00:20:46] \"GET /tile/12/1070/1624.png HTTP/1.1\" 200 7193 0.172217\n",
      "::1 - - [2017-05-14 00:20:46] \"GET /tile/12/1070/1627.png HTTP/1.1\" 200 10080 0.093629\n",
      "::1 - - [2017-05-14 00:20:46] \"GET /tile/12/1070/1623.png HTTP/1.1\" 200 5637 0.089346\n",
      "::1 - - [2017-05-14 00:20:46] \"GET /tile/12/1074/1623.png HTTP/1.1\" 200 6290 0.093396\n",
      "::1 - - [2017-05-14 00:20:46] \"GET /tile/12/1074/1627.png HTTP/1.1\" 200 7386 0.109262\n"
     ]
    }
   ],
   "source": [
    "cmap = { 0 : \"#00000000\", 1: \"#FF9D57FF\" }\n",
    "cmap_render = single_band_render_from_color_map(cmap)\n",
    "def render_tile(tile):\n",
    "    arr = tile[0]\n",
    "    return cmap_render(arr)\n",
    "data = GeoTrellisCatalogLayerData(geopysc, \n",
    "                                  catalog_uri, \n",
    "                                  \"not-prime-ag-soil\",\n",
    "                                  SPATIAL)\n",
    "M.add_layer(data, render_tile=render_tile)"
   ]
  },
  {
   "cell_type": "code",
   "execution_count": null,
   "metadata": {},
   "outputs": [],
   "source": [
    "M.remove_layer(M.layers[0])"
   ]
  },
  {
   "cell_type": "code",
   "execution_count": null,
   "metadata": {
    "collapsed": true
   },
   "outputs": [],
   "source": []
  }
 ],
 "metadata": {
  "kernelspec": {
   "display_name": "GeoNotebook + GeoPySpark (local)",
   "language": "python",
   "name": "geonotebook3"
  },
  "language_info": {
   "codemirror_mode": {
    "name": "ipython",
    "version": 3
   },
   "file_extension": ".py",
   "mimetype": "text/x-python",
   "name": "python",
   "nbconvert_exporter": "python",
   "pygments_lexer": "ipython3",
   "version": "3.4.5"
  }
 },
 "nbformat": 4,
 "nbformat_minor": 2
}
