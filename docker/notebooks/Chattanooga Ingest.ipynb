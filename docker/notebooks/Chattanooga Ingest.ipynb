{
 "cells": [
  {
   "cell_type": "code",
   "execution_count": null,
   "metadata": {
    "collapsed": true
   },
   "outputs": [],
   "source": [
    "from pyspark import SparkContext\n",
    "from geopyspark.geopycontext import GeoPyContext\n",
    "from geopyspark.geotrellis.catalog import read, read_value, query, write\n",
    "from geopyspark.geotrellis.constants import SPATIAL, ZOOM, TILE\n",
    "from geopyspark.geotrellis.geotiff_rdd import get\n",
    "from geopyspark.geotrellis.rdd import RasterRDD, TiledRasterRDD\n",
    "from geonotebook.vis.geotrellis.render_methods import single_band_render_from_color_map\n",
    "from geonotebook.wrappers import GeoTrellisCatalogLayerData, RddRasterData\n",
    "import numpy as np"
   ]
  },
  {
   "cell_type": "code",
   "execution_count": null,
   "metadata": {
    "collapsed": true
   },
   "outputs": [],
   "source": [
    "catalog_uri = \"file://catalog\""
   ]
  },
  {
   "cell_type": "code",
   "execution_count": null,
   "metadata": {},
   "outputs": [],
   "source": [
    "# Gather GeoTiffs\n",
    "\n",
    "!curl -o /tmp/DevelopedLand.tiff https://s3.amazonaws.com/chattademo/DevelopedLand.tiff\n",
    "!curl -o /tmp/FarmlandOrForestedLandsWithPrimeAgriculturalSoils.tiff https://s3.amazonaws.com/chattademo/FarmlandOrForestedLandsWithPrimeAgriculturalSoils.tiff\n",
    "!curl -o /tmp/FarmlandWithoutPrimeAgriculturalSoils.tiff.tiff https://s3.amazonaws.com/chattademo/FarmlandWithoutPrimeAgriculturalSoils.tiff.tiff\n",
    "!curl -o /tmp/ForestedLands.tiff https://s3.amazonaws.com/chattademo/ForestedLands.tiff\n",
    "!curl -o /tmp/ImperviousSurfacesBarrenLandsOpenWater.tiff https://s3.amazonaws.com/chattademo/ImperviousSurfacesBarrenLandsOpenWater.tiff\n",
    "!curl -o /tmp/NonWorkingProtectedOrPublicLands.tiff https://s3.amazonaws.com/chattademo/NonWorkingProtectedOrPublicLands.tiff\n",
    "!curl -o /tmp/PrimeAgriculturalSoilsNotForestedOrFarmland.tiff https://s3.amazonaws.com/chattademo/PrimeAgriculturalSoilsNotForestedOrFarmland.tiff\n",
    "!curl -o /tmp/PrivatelyOwnedWorkingLandsWithEasements.tiff https://s3.amazonaws.com/chattademo/PrivatelyOwnedWorkingLandsWithEasements.tiff\n",
    "!curl -o /tmp/PublicallyOwnedWorkingLands.tiff https://s3.amazonaws.com/chattademo/PublicallyOwnedWorkingLands.tiff\n",
    "!curl -o /tmp/Wetlands.tiff https://s3.amazonaws.com/chattademo/Wetlands.tiff\n"
   ]
  },
  {
   "cell_type": "code",
   "execution_count": null,
   "metadata": {},
   "outputs": [],
   "source": [
    "# Get the mask\n",
    "\n",
    "!curl -o /tmp/mask.json https://s3.amazonaws.com/chattademo/chatta_mask.json"
   ]
  },
  {
   "cell_type": "code",
   "execution_count": null,
   "metadata": {},
   "outputs": [],
   "source": [
    "from functools import partial\n",
    "import fiona\n",
    "import json\n",
    "import pyproj\n",
    "from shapely.geometry import mapping, shape\n",
    "from shapely.ops import transform\n",
    "\n",
    "project = partial(\n",
    "    pyproj.transform,\n",
    "    pyproj.Proj(init='epsg:4326'),\n",
    "    pyproj.Proj(init='epsg:3857'))\n",
    "\n",
    "txt = open('/tmp/mask.json').read()\n",
    "js = json.loads(txt)\n",
    "geom = shape(js)\n",
    "center = geom.centroid\n",
    "chatta_poly = transform(project, geom)\n",
    "chatta_poly"
   ]
  },
  {
   "cell_type": "code",
   "execution_count": null,
   "metadata": {
    "collapsed": true
   },
   "outputs": [],
   "source": [
    "layers = { \"developed-land\" : \"file:///tmp/DevelopedLand.tiff\",\n",
    "           \"prime-ag-soil\" : \"file:///tmp/FarmlandOrForestedLandsWithPrimeAgriculturalSoils.tiff\",\n",
    "           \"not-prime-ag-soil\" : \"file:///tmp/FarmlandOrForestedLandsWithPrimeAgriculturalSoils.tiff\",\n",
    "           \"forested-lands\" : \"file:///tmp/ForestedLands.tiff\",\n",
    "           \"impervious\" : \"file:///tmp/ImperviousSurfacesBarrenLandsOpenWater.tiff\",\n",
    "           \"protected\" : \"file:///tmp/NonWorkingProtectedOrPublicLands.tiff\",\n",
    "           \"prime-ag-soil-notfarm\" : \"file:///tmp/PrimeAgriculturalSoilsNotForestedOrFarmland.tiff\",\n",
    "           \"private-with-easements\" : \"file:///tmp/PrivatelyOwnedWorkingLandsWithEasements.tiff\",\n",
    "           \"public-working-lands\" : \"file:///tmp/PublicallyOwnedWorkingLands.tiff\",\n",
    "           \"wetlands\" : \"file:///tmp/Wetlands.tiff\" }"
   ]
  },
  {
   "cell_type": "code",
   "execution_count": null,
   "metadata": {
    "collapsed": true
   },
   "outputs": [],
   "source": [
    "sc = SparkContext(appName=\"Chatta Ingest\")\n",
    "geopysc = GeoPyContext(sc)"
   ]
  },
  {
   "cell_type": "code",
   "execution_count": null,
   "metadata": {
    "collapsed": true
   },
   "outputs": [],
   "source": [
    "def ingest_layer(layer_name, path, mask=True):\n",
    "    rdd = get(geopysc, SPATIAL, path, maxTileSize=512, numPartitions=20)\n",
    "    metadata = rdd.collect_metadata(tile_size=512)\n",
    "    metadata['cellType'] = \"int8\"\n",
    "    laid_out = rdd.tile_to_layout(metadata)\n",
    "    reprojected = laid_out.reproject(\"EPSG:3857\", scheme=ZOOM)\n",
    "    if mask:\n",
    "        target = reprojected.mask([chatta_poly])\n",
    "    else:\n",
    "        target = reprojected\n",
    "    for layer_rdd in target.pyramid(reprojected.zoom_level, 0):\n",
    "        write(catalog_uri, layer_name, layer_rdd)    "
   ]
  },
  {
   "cell_type": "code",
   "execution_count": null,
   "metadata": {},
   "outputs": [],
   "source": [
    "for layer in layers:\n",
    "    print(\"Ingesting %s at %s\" % (layer, layers[layer]))\n",
    "    ingest_layer(layer, layers[layer])\n"
   ]
  },
  {
   "cell_type": "code",
   "execution_count": null,
   "metadata": {
    "collapsed": true
   },
   "outputs": [],
   "source": [
    "# debug\n",
    "ingest_layer(\"developed-land-nomask\", layers['developed-land'], mask=False)"
   ]
  },
  {
   "cell_type": "code",
   "execution_count": null,
   "metadata": {},
   "outputs": [],
   "source": [
    "M.set_center(-85.2935099666654, 35.20529964318362, 9)"
   ]
  },
  {
   "cell_type": "code",
   "execution_count": null,
   "metadata": {},
   "outputs": [],
   "source": [
    "cmap = { 0 : \"#000000FF\", 1: \"#FF9D57FF\", -128: \"#00000000\" }\n",
    "cmap_render = single_band_render_from_color_map(cmap)\n",
    "def render_tile(tile):\n",
    "    arr = tile[0]\n",
    "    return cmap_render(arr)\n",
    "data = GeoTrellisCatalogLayerData(geopysc, \n",
    "                                  catalog_uri, \n",
    "                                  \"developed-land\",\n",
    "                                  SPATIAL)\n",
    "M.add_layer(data, render_tile=render_tile)"
   ]
  },
  {
   "cell_type": "code",
   "execution_count": null,
   "metadata": {},
   "outputs": [],
   "source": [
    "M.remove_layer(M.layers[0])"
   ]
  },
  {
   "cell_type": "code",
   "execution_count": null,
   "metadata": {},
   "outputs": [],
   "source": [
    "# debug\n",
    "\n",
    "v = read_value(geopysc, SPATIAL, catalog_uri, \"developed-land-nomask\", 11, 540, 807)\n",
    "t = v['data']\n",
    "render_tile(t)"
   ]
  },
  {
   "cell_type": "code",
   "execution_count": null,
   "metadata": {},
   "outputs": [],
   "source": [
    "M.layers"
   ]
  },
  {
   "cell_type": "code",
   "execution_count": null,
   "metadata": {
    "collapsed": true
   },
   "outputs": [],
   "source": []
  }
 ],
 "metadata": {
  "kernelspec": {
   "display_name": "GeoNotebook + GeoPySpark (local)",
   "language": "python",
   "name": "geonotebook3"
  },
  "language_info": {
   "codemirror_mode": {
    "name": "ipython",
    "version": 3
   },
   "file_extension": ".py",
   "mimetype": "text/x-python",
   "name": "python",
   "nbconvert_exporter": "python",
   "pygments_lexer": "ipython3",
   "version": "3.4.5"
  }
 },
 "nbformat": 4,
 "nbformat_minor": 2
}
