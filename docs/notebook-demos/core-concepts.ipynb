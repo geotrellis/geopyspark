{
 "cells": [
  {
   "cell_type": "code",
   "execution_count": 9,
   "metadata": {
    "collapsed": true
   },
   "outputs": [],
   "source": [
    "import numpy as np\n",
    "import geopyspark as gps"
   ]
  },
  {
   "cell_type": "markdown",
   "metadata": {},
   "source": [
    "# Core Concepts"
   ]
  },
  {
   "cell_type": "markdown",
   "metadata": {},
   "source": [
    "Because GeoPySpark is a binding of an existing project, GeoTrellis, some terminology and data representations have carried over. This section seeks to explain this jargon in addition to describing how GeoTrellis types are represented in GeoPySpark.\n",
    "\n",
    "You may notice as read through this section that camel case is used instead of Python’s more traditional naming convention for some values. This is because Scala uses this style of naming, and when it receives data from Python it expects the value names to be in camel case."
   ]
  },
  {
   "cell_type": "markdown",
   "metadata": {},
   "source": [
    "## Rasters"
   ]
  },
  {
   "cell_type": "markdown",
   "metadata": {},
   "source": [
    "GeoPySpark differs in how it represents rasters from other geo-spatial Python libraries like rasterIO. In GeoPySpark, they are represented by a namedtuple called, `Tile`.\n",
    "\n",
    "**Note**: All rasters in GeoPySpark are represented as having multiple bands, even if the original raster just contained one."
   ]
  },
  {
   "cell_type": "code",
   "execution_count": 10,
   "metadata": {
    "collapsed": false
   },
   "outputs": [
    {
     "data": {
      "text/plain": [
       "Tile(cells=array([[[0, 0, 0, 0],\n",
       "        [1, 1, 1, 1],\n",
       "        [2, 2, 2, 2]]], dtype=int16), cell_type='SHORT', no_data_value=-10)"
      ]
     },
     "execution_count": 10,
     "metadata": {},
     "output_type": "execute_result"
    }
   ],
   "source": [
    "arr = np.array([[[0, 0, 0, 0],\n",
    "                 [1, 1, 1, 1],\n",
    "                 [2, 2, 2, 2]]], dtype=np.int16)\n",
    "\n",
    "# The resulting Tile will set -10 has the no_data_value for the raster\n",
    "gps.Tile.from_numpy_array(numpy_array=arr, no_data_value=-10)"
   ]
  },
  {
   "cell_type": "code",
   "execution_count": 11,
   "metadata": {
    "collapsed": false
   },
   "outputs": [
    {
     "data": {
      "text/plain": [
       "Tile(cells=array([[[0, 0, 0, 0],\n",
       "        [1, 1, 1, 1],\n",
       "        [2, 2, 2, 2]]], dtype=int16), cell_type='SHORT', no_data_value=None)"
      ]
     },
     "execution_count": 11,
     "metadata": {},
     "output_type": "execute_result"
    }
   ],
   "source": [
    "# The resulting Tile will have no no_data_value\n",
    "gps.Tile.from_numpy_array(numpy_array=arr)"
   ]
  },
  {
   "cell_type": "markdown",
   "metadata": {},
   "source": [
    "## Extent\n",
    "\n",
    "Describes the area on Earth a raster represents. In GeoPySpark, this is represented by `Extent`\n",
    "\n",
    "**Note**: The values within the `Extent` must be `float`s and not `double`s."
   ]
  },
  {
   "cell_type": "code",
   "execution_count": 12,
   "metadata": {
    "collapsed": false
   },
   "outputs": [
    {
     "data": {
      "text/plain": [
       "Extent(xmin=0.0, ymin=0.0, xmax=10.0, ymax=10.0)"
      ]
     },
     "execution_count": 12,
     "metadata": {},
     "output_type": "execute_result"
    }
   ],
   "source": [
    "extent = gps.Extent(0.0, 0.0, 10.0, 10.0)\n",
    "extent"
   ]
  },
  {
   "cell_type": "markdown",
   "metadata": {},
   "source": [
    "## ProjectedExtent\n",
    "\n",
    "Describes both the area on Earth a raster represents in addition to its CRS. In GeoPySpark, this is represented by\n",
    "`ProjectedExtent`."
   ]
  },
  {
   "cell_type": "code",
   "execution_count": 13,
   "metadata": {
    "collapsed": false
   },
   "outputs": [
    {
     "data": {
      "text/plain": [
       "ProjectedExtent(extent=Extent(xmin=0.0, ymin=0.0, xmax=10.0, ymax=10.0), epsg=3857, proj4=None)"
      ]
     },
     "execution_count": 13,
     "metadata": {},
     "output_type": "execute_result"
    }
   ],
   "source": [
    "# Using an EPSG code\n",
    "\n",
    "gps.ProjectedExtent(extent=extent, epsg=3857)"
   ]
  },
  {
   "cell_type": "code",
   "execution_count": 14,
   "metadata": {
    "collapsed": false
   },
   "outputs": [
    {
     "data": {
      "text/plain": [
       "ProjectedExtent(extent=Extent(xmin=0.0, ymin=0.0, xmax=10.0, ymax=10.0), epsg=None, proj4='+proj=merc +lon_0=0 +k=1 +x_0=0 +y_0=0 +a=6378137 +b=6378137 +towgs84=0,0,0,0,0,0,0 +units=m +no_defs ')"
      ]
     },
     "execution_count": 14,
     "metadata": {},
     "output_type": "execute_result"
    }
   ],
   "source": [
    "# Using a Proj4 String\n",
    "\n",
    "proj4 = \"+proj=merc +lon_0=0 +k=1 +x_0=0 +y_0=0 +a=6378137 +b=6378137 +towgs84=0,0,0,0,0,0,0 +units=m +no_defs \"\n",
    "gps.ProjectedExtent(extent=extent, proj4=proj4)"
   ]
  },
  {
   "cell_type": "markdown",
   "metadata": {},
   "source": [
    "## TemporalProjectedExtent\n",
    "\n",
    "Describes the area on Earth the raster represents, its CRS, and the time the data was collected. In GeoPySpark, this is represented by `TemporalProjectedExtent`."
   ]
  },
  {
   "cell_type": "code",
   "execution_count": 15,
   "metadata": {
    "collapsed": false
   },
   "outputs": [
    {
     "data": {
      "text/plain": [
       "TemporalProjectedExtent(extent=Extent(xmin=0.0, ymin=0.0, xmax=10.0, ymax=10.0), instant=0.1, epsg=3857, proj4=None)"
      ]
     },
     "execution_count": 15,
     "metadata": {},
     "output_type": "execute_result"
    }
   ],
   "source": [
    "gps.TemporalProjectedExtent(extent=extent, instant=0.1, epsg=3857)"
   ]
  },
  {
   "cell_type": "markdown",
   "metadata": {},
   "source": [
    "## TileLayout\n",
    "\n",
    "``TileLayout`` describes the grid in which the rasters should be laid out."
   ]
  },
  {
   "cell_type": "code",
   "execution_count": 16,
   "metadata": {
    "collapsed": false
   },
   "outputs": [
    {
     "data": {
      "text/plain": [
       "TileLayout(layoutCols=2, layoutRows=2, tileCols=256, tileRows=256)"
      ]
     },
     "execution_count": 16,
     "metadata": {},
     "output_type": "execute_result"
    }
   ],
   "source": [
    "# Describes a layer where there are four rasters in a 2x2 grid. Each raster has 256 cols and rows.\n",
    "\n",
    "tile_layout = gps.TileLayout(layoutCols=2, layoutRows=2, tileCols=256, tileRows=256)\n",
    "tile_layout"
   ]
  },
  {
   "cell_type": "markdown",
   "metadata": {},
   "source": [
    "## LayoutDefinition\n",
    "\n",
    "`LayoutDefinition` describes both how the rasters are orginized in a layer as well as the area covered by the grid."
   ]
  },
  {
   "cell_type": "code",
   "execution_count": 17,
   "metadata": {
    "collapsed": false
   },
   "outputs": [
    {
     "data": {
      "text/plain": [
       "LayoutDefinition(extent=Extent(xmin=0.0, ymin=0.0, xmax=10.0, ymax=10.0), tileLayout=TileLayout(layoutCols=2, layoutRows=2, tileCols=256, tileRows=256))"
      ]
     },
     "execution_count": 17,
     "metadata": {},
     "output_type": "execute_result"
    }
   ],
   "source": [
    "layout_definition = gps.LayoutDefinition(extent=extent, tileLayout=tile_layout)\n",
    "layout_definition"
   ]
  },
  {
   "cell_type": "markdown",
   "metadata": {},
   "source": [
    "## LocalLayout\n",
    "\n",
    "`LocalLayout` is a tiling strategy that represents a layout definition where the grid is constructed over all of the pixels within a layer of a given tile size. The resulting layout will match the original resolution of the cells within the rasters.\n",
    "\n",
    "**Note**: This layout **cannot be used for creating display layers. Rather, it is best used for layers where operations and analysis will be performed.**"
   ]
  },
  {
   "cell_type": "code",
   "execution_count": 18,
   "metadata": {
    "collapsed": false
   },
   "outputs": [
    {
     "data": {
      "text/plain": [
       "LocalLayout(tile_cols=256, tile_rows=256)"
      ]
     },
     "execution_count": 18,
     "metadata": {},
     "output_type": "execute_result"
    }
   ],
   "source": [
    "# Creates a LocalLayout where each tile within the grid will be 256x256 pixels.\n",
    "gps.LocalLayout()"
   ]
  },
  {
   "cell_type": "code",
   "execution_count": 19,
   "metadata": {
    "collapsed": false
   },
   "outputs": [
    {
     "data": {
      "text/plain": [
       "LocalLayout(tile_cols=512, tile_rows=512)"
      ]
     },
     "execution_count": 19,
     "metadata": {},
     "output_type": "execute_result"
    }
   ],
   "source": [
    "# Creates a LocalLayout where each tile within the grid will be 512x512 pixels.\n",
    "gps.LocalLayout(tile_size=512)"
   ]
  },
  {
   "cell_type": "code",
   "execution_count": 20,
   "metadata": {
    "collapsed": false
   },
   "outputs": [
    {
     "data": {
      "text/plain": [
       "LocalLayout(tile_cols=256, tile_rows=512)"
      ]
     },
     "execution_count": 20,
     "metadata": {},
     "output_type": "execute_result"
    }
   ],
   "source": [
    "# Creates a LocalLayout where each tile within the grid will be 256x512 pixels.\n",
    "gps.LocalLayout(tile_cols=256, tile_rows=512)"
   ]
  },
  {
   "cell_type": "markdown",
   "metadata": {},
   "source": [
    "## GlobalLayout\n",
    "\n",
    "`GlobalLayout` is a tiling strategy that represents a layout where the grid is constructed over the global extent CRS. The cell resolution of the resulting layer be multiplied by a power of 2 for the CRS. Thus, using this strategy will result in either up or down sampling of the original raster.\n",
    "\n",
    "**Note**: This layout strategy **should be used when the resulting layer is to be dispalyed in a TMS server.**"
   ]
  },
  {
   "cell_type": "code",
   "execution_count": 21,
   "metadata": {
    "collapsed": false
   },
   "outputs": [
    {
     "data": {
      "text/plain": [
       "GlobalLayout(tile_size=256, zoom=None, threshold=0.1)"
      ]
     },
     "execution_count": 21,
     "metadata": {},
     "output_type": "execute_result"
    }
   ],
   "source": [
    "# Creates a GobalLayout instance with the default values\n",
    "gps.GlobalLayout()"
   ]
  },
  {
   "cell_type": "code",
   "execution_count": 22,
   "metadata": {
    "collapsed": false
   },
   "outputs": [
    {
     "data": {
      "text/plain": [
       "GlobalLayout(tile_size=256, zoom=12, threshold=0.1)"
      ]
     },
     "execution_count": 22,
     "metadata": {},
     "output_type": "execute_result"
    }
   ],
   "source": [
    "# Creates a GlobalLayout instance for a zoom of 12\n",
    "gps.GlobalLayout(zoom=12)"
   ]
  },
  {
   "cell_type": "markdown",
   "metadata": {},
   "source": [
    "You may have noticed from the above two examples that `GlobalLayout` does not create layout for a given zoom level by default. Rather, it determines what the zoom should be based on the size of the cells within the rasters. If you do want to create a layout for a specific zoom level, then the `zoom` parameter must be set."
   ]
  },
  {
   "cell_type": "markdown",
   "metadata": {},
   "source": [
    "## SpatialKey\n",
    "\n",
    "Represents the position of a raster within a grid. This grid is a 2D plane where raster positions are represented by a pair of coordinates. In GeoPySpark, this is represented by `SpatialKey`."
   ]
  },
  {
   "cell_type": "code",
   "execution_count": 23,
   "metadata": {
    "collapsed": false
   },
   "outputs": [
    {
     "data": {
      "text/plain": [
       "SpatialKey(col=0, row=0)"
      ]
     },
     "execution_count": 23,
     "metadata": {},
     "output_type": "execute_result"
    }
   ],
   "source": [
    "gps.SpatialKey(col=0, row=0)"
   ]
  },
  {
   "cell_type": "markdown",
   "metadata": {},
   "source": [
    "## SpaceTimeKey\n",
    "\n",
    "Represents the position of a raster within a grid. This grid is a 3D plane where raster positions are represented by a pair of coordinates as well as a z value that represents time. In GeoPySpark, this is represented by `SpaceTimeKey`."
   ]
  },
  {
   "cell_type": "code",
   "execution_count": 24,
   "metadata": {
    "collapsed": false
   },
   "outputs": [
    {
     "data": {
      "text/plain": [
       "SpaceTimeKey(col=0, row=0, instant=0.0)"
      ]
     },
     "execution_count": 24,
     "metadata": {},
     "output_type": "execute_result"
    }
   ],
   "source": [
    "gps.SpaceTimeKey(col=0, row=0, instant=0.0)"
   ]
  },
  {
   "cell_type": "markdown",
   "metadata": {},
   "source": [
    "## Bounds\n",
    "\n",
    "`Bounds` represents the the extent of the layout grid in terms of keys. It has both a `minKey` and a `maxKey` attributes. These can either be a `SpatialKey` or a `SpaceTimeKey` depending on the type of data within the layer. The `minKey` is left, uppermost cell in the grid and the `maxKey` is the right, bottommost cell."
   ]
  },
  {
   "cell_type": "code",
   "execution_count": 25,
   "metadata": {
    "collapsed": false
   },
   "outputs": [
    {
     "data": {
      "text/plain": [
       "Bounds(minKey=SpatialKey(col=0, row=0), maxKey=SpatialKey(col=10, row=10))"
      ]
     },
     "execution_count": 25,
     "metadata": {},
     "output_type": "execute_result"
    }
   ],
   "source": [
    "# Creating a Bounds from SpatialKeys\n",
    "\n",
    "min_spatial_key = gps.SpatialKey(0, 0)\n",
    "max_spatial_key = gps.SpatialKey(10, 10)\n",
    "\n",
    "bounds = gps.Bounds(min_spatial_key, max_spatial_key)\n",
    "bounds"
   ]
  },
  {
   "cell_type": "code",
   "execution_count": 26,
   "metadata": {
    "collapsed": false
   },
   "outputs": [
    {
     "data": {
      "text/plain": [
       "Bounds(minKey=SpaceTimeKey(col=0, row=0, instant=1.0), maxKey=SpaceTimeKey(col=10, row=10, instant=1.0))"
      ]
     },
     "execution_count": 26,
     "metadata": {},
     "output_type": "execute_result"
    }
   ],
   "source": [
    "# Creating a Bounds from SpaceTimeKeys\n",
    "\n",
    "min_space_time_key = gps.SpaceTimeKey(0, 0, 1.0)\n",
    "max_space_time_key = gps.SpaceTimeKey(10, 10, 1.0)\n",
    "\n",
    "gps.Bounds(min_space_time_key, max_space_time_key)"
   ]
  },
  {
   "cell_type": "markdown",
   "metadata": {},
   "source": [
    "## Metadata\n",
    "\n",
    "`Metadata` contains information of the values within a layer. This data pretains to the layout, projection, and extent of the data contained within the layer.\n",
    "\n",
    "The below example shows how to construct `Metadata` by hand, however, this is almost never required and `Metadata` can be produced using easier means. For `RasterLayer`, one call the method, `collect_metadata()` and `TiledRasterLayer` has the attribute, `layer_metadata`."
   ]
  },
  {
   "cell_type": "code",
   "execution_count": 28,
   "metadata": {
    "collapsed": false
   },
   "outputs": [
    {
     "data": {
      "text/plain": [
       "Metadata(Bounds(minKey=SpatialKey(col=0, row=0), maxKey=SpatialKey(col=10, row=10)), int16, -32768, +proj=merc +lon_0=0 +k=1 +x_0=0 +y_0=0 +a=6378137 +b=6378137 +towgs84=0,0,0,0,0,0,0 +units=m +no_defs , Extent(xmin=0.0, ymin=0.0, xmax=10.0, ymax=10.0), TileLayout(layoutCols=2, layoutRows=2, tileCols=256, tileRows=256), LayoutDefinition(extent=Extent(xmin=0.0, ymin=0.0, xmax=10.0, ymax=10.0), tileLayout=TileLayout(layoutCols=2, layoutRows=2, tileCols=256, tileRows=256)))"
      ]
     },
     "execution_count": 28,
     "metadata": {},
     "output_type": "execute_result"
    }
   ],
   "source": [
    "# Creates Metadata for a layer with rasters that have a cell type of int16 with the previously defined\n",
    "# bounds, crs, extent, and layout definition.\n",
    "gps.Metadata(bounds=bounds,\n",
    "             crs=proj4,\n",
    "             cell_type=gps.CellType.INT16.value,\n",
    "             extent=extent,\n",
    "             layout_definition=layout_definition)"
   ]
  }
 ],
 "metadata": {
  "kernelspec": {
   "display_name": "Python 3",
   "language": "python",
   "name": "python3"
  },
  "language_info": {
   "codemirror_mode": {
    "name": "ipython",
    "version": 3
   },
   "file_extension": ".py",
   "mimetype": "text/x-python",
   "name": "python",
   "nbconvert_exporter": "python",
   "pygments_lexer": "ipython3",
   "version": "3.5.1+"
  }
 },
 "nbformat": 4,
 "nbformat_minor": 2
}
