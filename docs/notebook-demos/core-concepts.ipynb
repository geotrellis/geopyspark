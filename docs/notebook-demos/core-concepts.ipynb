{
 "cells": [
  {
   "cell_type": "code",
   "execution_count": null,
   "metadata": {
    "collapsed": true
   },
   "outputs": [],
   "source": [
    "import numpy as np\n",
    "import geopyspark as gps"
   ]
  },
  {
   "cell_type": "markdown",
   "metadata": {},
   "source": [
    "# Core Concepts\n",
    "\n",
    "Because GeoPySpark is a binding of an existing project, GeoTrellis, some terminology and data representations have carried over. This section seeks to explain this jargon in addition to describing how GeoTrellis types are represented in GeoPySpark."
   ]
  },
  {
   "cell_type": "markdown",
   "metadata": {},
   "source": [
    "## Rasters\n",
    "\n",
    "GeoPySpark differs in how it represents rasters from other geo-spatial Python libraries like rasterIO. In GeoPySpark, they are represented by the `Tile` class. This class contains a numpy array (refered to as `cells`) that represents the cells of the raster in addition to other information regarding the data. Along with `cells`, `Tile` can also have the `no_data_value` of the raster.\n",
    "\n",
    "**Note**: All rasters in GeoPySpark are represented as having multiple bands, even if the original raster just contained one."
   ]
  },
  {
   "cell_type": "code",
   "execution_count": null,
   "metadata": {
    "collapsed": false
   },
   "outputs": [],
   "source": [
    "arr = np.array([[[0, 0, 0, 0],\n",
    "                 [1, 1, 1, 1],\n",
    "                 [2, 2, 2, 2]]], dtype=np.int16)\n",
    "\n",
    "# The resulting Tile will set -10 has the no_data_value for the raster\n",
    "gps.Tile.from_numpy_array(numpy_array=arr, no_data_value=-10)"
   ]
  },
  {
   "cell_type": "code",
   "execution_count": null,
   "metadata": {
    "collapsed": false
   },
   "outputs": [],
   "source": [
    "# The resulting Tile will have no no_data_value\n",
    "gps.Tile.from_numpy_array(numpy_array=arr)"
   ]
  },
  {
   "cell_type": "markdown",
   "metadata": {},
   "source": [
    "## Extent\n",
    "\n",
    "Describes the area on Earth a raster represents. This area is represented by coordinates that are in some Coordinate Reference System. Thus, depending on the system in use, the values that outline the `extent` can vary. `Extent` can also be refered to as a *bounding box*.\n",
    "\n",
    "**Note**: The values within the `Extent` must be `float`s and not `double`s."
   ]
  },
  {
   "cell_type": "code",
   "execution_count": null,
   "metadata": {
    "collapsed": false
   },
   "outputs": [],
   "source": [
    "extent = gps.Extent(0.0, 0.0, 10.0, 10.0)\n",
    "extent"
   ]
  },
  {
   "cell_type": "markdown",
   "metadata": {},
   "source": [
    "## ProjectedExtent\n",
    "\n",
    "`ProjectedExtent` describes both the area on Earth a raster represents in addition to its CRS. Either the EPSG code or a proj4 string can be used to indicate the CRS of the `ProjectedExtent`."
   ]
  },
  {
   "cell_type": "code",
   "execution_count": null,
   "metadata": {
    "collapsed": false
   },
   "outputs": [],
   "source": [
    "# Using an EPSG code\n",
    "\n",
    "gps.ProjectedExtent(extent=extent, epsg=3857)"
   ]
  },
  {
   "cell_type": "code",
   "execution_count": null,
   "metadata": {
    "collapsed": false
   },
   "outputs": [],
   "source": [
    "# Using a Proj4 String\n",
    "\n",
    "proj4 = \"+proj=merc +lon_0=0 +k=1 +x_0=0 +y_0=0 +a=6378137 +b=6378137 +towgs84=0,0,0,0,0,0,0 +units=m +no_defs \"\n",
    "gps.ProjectedExtent(extent=extent, proj4=proj4)"
   ]
  },
  {
   "cell_type": "markdown",
   "metadata": {},
   "source": [
    "## TemporalProjectedExtent\n",
    "\n",
    "Similar to `ProjectedExtent`, `TemporalProjectedExtent` describes the area on Earth the raster represents, its CRS, and the time the data was represents. This time period, called `instant`, is a time stamp that is given as an `int` or `float`."
   ]
  },
  {
   "cell_type": "code",
   "execution_count": null,
   "metadata": {
    "collapsed": false
   },
   "outputs": [],
   "source": [
    "gps.TemporalProjectedExtent(extent=extent, instant=0.1, epsg=3857)"
   ]
  },
  {
   "cell_type": "markdown",
   "metadata": {},
   "source": [
    "## TileLayout\n",
    "\n",
    "``TileLayout`` describes the grid which represents how rasters are orginized and assorted in a layer. `layoutCols` and `layoutRows` detail how many columns and rows the grid itself has, respectively. While `tileCols` and `tileRows` tell how many columns and rows each individual raster has."
   ]
  },
  {
   "cell_type": "code",
   "execution_count": null,
   "metadata": {
    "collapsed": false
   },
   "outputs": [],
   "source": [
    "# Describes a layer where there are four rasters in a 2x2 grid. Each raster has 256 cols and rows.\n",
    "\n",
    "tile_layout = gps.TileLayout(layoutCols=2, layoutRows=2, tileCols=256, tileRows=256)\n",
    "tile_layout"
   ]
  },
  {
   "cell_type": "markdown",
   "metadata": {},
   "source": [
    "## LayoutDefinition\n",
    "\n",
    "`LayoutDefinition` describes both how the rasters are orginized in a layer as well as the area covered by the grid."
   ]
  },
  {
   "cell_type": "code",
   "execution_count": null,
   "metadata": {
    "collapsed": false
   },
   "outputs": [],
   "source": [
    "layout_definition = gps.LayoutDefinition(extent=extent, tileLayout=tile_layout)\n",
    "layout_definition"
   ]
  },
  {
   "cell_type": "markdown",
   "metadata": {},
   "source": [
    "## Tiling Strategies\n",
    "\n",
    "It is often the case that the exact layout of the layer is unknown. Rather than having to go through the effort of trying to figure out the optimal layout, there exists two different tiling strategies that will produce a layout based on the data they are given."
   ]
  },
  {
   "cell_type": "markdown",
   "metadata": {},
   "source": [
    "### LocalLayout\n",
    "\n",
    "`LocalLayout` is the first tiling strategy that produces a layout where the grid is constructed over all of the pixels within a layer of a given tile size. The resulting layout will match the original resolution of the cells within the rasters.\n",
    "\n",
    "**Note**: This layout **cannot be used for creating display layers. Rather, it is best used for layers where operations and analysis will be performed.**"
   ]
  },
  {
   "cell_type": "code",
   "execution_count": null,
   "metadata": {
    "collapsed": false
   },
   "outputs": [],
   "source": [
    "# Creates a LocalLayout where each tile within the grid will be 256x256 pixels.\n",
    "gps.LocalLayout()"
   ]
  },
  {
   "cell_type": "code",
   "execution_count": null,
   "metadata": {
    "collapsed": false
   },
   "outputs": [],
   "source": [
    "# Creates a LocalLayout where each tile within the grid will be 512x512 pixels.\n",
    "gps.LocalLayout(tile_size=512)"
   ]
  },
  {
   "cell_type": "code",
   "execution_count": null,
   "metadata": {
    "collapsed": false
   },
   "outputs": [],
   "source": [
    "# Creates a LocalLayout where each tile within the grid will be 256x512 pixels.\n",
    "gps.LocalLayout(tile_cols=256, tile_rows=512)"
   ]
  },
  {
   "cell_type": "markdown",
   "metadata": {},
   "source": [
    "### GlobalLayout\n",
    "\n",
    "The other tiling strategy is `GlobalLayout` which makes a layout where the grid is constructed over the global extent CRS. The cell resolution of the resulting layer be multiplied by a power of 2 for the CRS. Thus, using this strategy will result in either up or down sampling of the original raster.\n",
    "\n",
    "**Note**: This layout strategy **should be used when the resulting layer is to be dispalyed in a TMS server.**"
   ]
  },
  {
   "cell_type": "code",
   "execution_count": null,
   "metadata": {
    "collapsed": false
   },
   "outputs": [],
   "source": [
    "# Creates a GobalLayout instance with the default values\n",
    "gps.GlobalLayout()"
   ]
  },
  {
   "cell_type": "code",
   "execution_count": null,
   "metadata": {
    "collapsed": false
   },
   "outputs": [],
   "source": [
    "# Creates a GlobalLayout instance for a zoom of 12\n",
    "gps.GlobalLayout(zoom=12)"
   ]
  },
  {
   "cell_type": "markdown",
   "metadata": {},
   "source": [
    "You may have noticed from the above two examples that `GlobalLayout` does not create layout for a given zoom level by default. Rather, it determines what the zoom should be based on the size of the cells within the rasters. If you do want to create a layout for a specific zoom level, then the `zoom` parameter must be set."
   ]
  },
  {
   "cell_type": "markdown",
   "metadata": {},
   "source": [
    "## SpatialKey\n",
    "\n",
    "`SpatialKey`s describe the positions of rasters within the grid of the layout. This grid is a 2D plane where the location of a raster is represented by a pair of coordinates, `col` and `row`, resprectively. As its name and attributes suggest, `SpatialKey` deals soley with spatial data."
   ]
  },
  {
   "cell_type": "code",
   "execution_count": null,
   "metadata": {
    "collapsed": false
   },
   "outputs": [],
   "source": [
    "gps.SpatialKey(col=0, row=0)"
   ]
  },
  {
   "cell_type": "markdown",
   "metadata": {},
   "source": [
    "## SpaceTimeKey\n",
    "\n",
    "Like `SpatialKey`s, `SpaceTimeKey`s describe the position of a raster in a layout. However, the grid is a 3D plane where a location of a raster is represented by a pair of coordinates, `col` and `row`, as well as a z value that represents a point in time called, `instant`. Thus, `SpaceTimeKey`s deal with spatial-temporal data."
   ]
  },
  {
   "cell_type": "code",
   "execution_count": null,
   "metadata": {
    "collapsed": false
   },
   "outputs": [],
   "source": [
    "gps.SpaceTimeKey(col=0, row=0, instant=0.0)"
   ]
  },
  {
   "cell_type": "markdown",
   "metadata": {},
   "source": [
    "## Bounds\n",
    "\n",
    "`Bounds` represents the the extent of the layout grid in terms of keys. It has both a `minKey` and a `maxKey` attributes. These can either be a `SpatialKey` or a `SpaceTimeKey` depending on the type of data within the layer. The `minKey` is left, uppermost cell in the grid and the `maxKey` is the right, bottommost cell."
   ]
  },
  {
   "cell_type": "code",
   "execution_count": null,
   "metadata": {
    "collapsed": false
   },
   "outputs": [],
   "source": [
    "# Creating a Bounds from SpatialKeys\n",
    "\n",
    "min_spatial_key = gps.SpatialKey(0, 0)\n",
    "max_spatial_key = gps.SpatialKey(10, 10)\n",
    "\n",
    "bounds = gps.Bounds(min_spatial_key, max_spatial_key)\n",
    "bounds"
   ]
  },
  {
   "cell_type": "code",
   "execution_count": null,
   "metadata": {
    "collapsed": false
   },
   "outputs": [],
   "source": [
    "# Creating a Bounds from SpaceTimeKeys\n",
    "\n",
    "min_space_time_key = gps.SpaceTimeKey(0, 0, 1.0)\n",
    "max_space_time_key = gps.SpaceTimeKey(10, 10, 1.0)\n",
    "\n",
    "gps.Bounds(min_space_time_key, max_space_time_key)"
   ]
  },
  {
   "cell_type": "markdown",
   "metadata": {},
   "source": [
    "## Metadata\n",
    "\n",
    "`Metadata` contains information of the values within a layer. This data pretains to the layout, projection, and extent of the data contained within the layer.\n",
    "\n",
    "The below example shows how to construct `Metadata` by hand, however, this is almost never required and `Metadata` can be produced using easier means. For `RasterLayer`, one call the method, `collect_metadata()` and `TiledRasterLayer` has the attribute, `layer_metadata`."
   ]
  },
  {
   "cell_type": "code",
   "execution_count": null,
   "metadata": {
    "collapsed": false
   },
   "outputs": [],
   "source": [
    "# Creates Metadata for a layer with rasters that have a cell type of int16 with the previously defined\n",
    "# bounds, crs, extent, and layout definition.\n",
    "gps.Metadata(bounds=bounds,\n",
    "             crs=proj4,\n",
    "             cell_type=gps.CellType.INT16.value,\n",
    "             extent=extent,\n",
    "             layout_definition=layout_definition)"
   ]
  },
  {
   "cell_type": "markdown",
   "metadata": {},
   "source": [
    "## How is Data Stored and Represented in GeoPySpark?\n",
    "\n",
    "All data that is worked with in GeoPySpark is at some point stored within a `RDD`. Therefore, it is important to understand how GeoPySpark stores, represents, and uses these `RDD`s throughout the library.\n",
    "\n",
    "GeoPySpark does not work with PySpark `RDD`s, but rather, uses Python classes that are wrappers of classes in Scala that contain and work with a Scala `RDD`. These classes being `RasterLayer` and `TiledRasterLayer` which be discuessed in more detail later.\n",
    "\n",
    "### Why Are the Python Classes Refered to as Layers?\n",
    "\n",
    "You might be wondering why we refer to the Python classes which wrap the Scala classes that contain the `RDD` as a layer not an `RDD`. This is for two reasons: the first being that neither `RasterLayer` or `TiledRasterLayer` extend PySpark's `RDD` class; the other is that these classes contain more information than just the `RDD`. When we refer to a \"layer\", we mean both the `RDD` and its attributes.\n",
    "\n",
    "All `RDD`s in GeoPySpark contain tuples, whose values will be referred to in this guide as `(K, V)`. `V` will always be a `Tile`, but `K` differs depending on both the wrapper class and the nature of the data itself.\n",
    "\n",
    "### RasterLayer\n",
    "\n",
    "`RasterLayer` is one of the two wrapper classes in GeoPySpark and deals with untiled data. What does it mean for data to be untiled? It means that each element within the layer has not been modified in such a way that would make it a part of a larger, overall layout. For example, a distributed collection of rasters of a contiguous area could be derived from GeoTiffs of different sizes. This, in turn, could mean that there’s a lack of uniformity when viewing the area as a whole. It is this, “raw” data that is stored within `RasterLayer`.\n",
    "\n",
    "It would help to have all of the data uniform when working with it, and that is what `RasterLayer` accomplishes. The point of this class is to format the data within the layer to a specified layout.\n",
    "\n",
    "As mentioned in the previous section, both wrapper classes hold data in tuples. With the `K` of each tuple being different between the two. In the case of `RasterLayer`, `K` is either `ProjectedExtent` or `TemporalProjectedExtent`.\n",
    "\n",
    "### TiledRasterLayer\n",
    "\n",
    "`TiledRasterLayer` is the second of the two wrapper classes in GeoPySpark and deals with tiled data. Which means the rasters inside of the layer have been fitted to a certain layout. The benefit of having data in this state is that now it will be easy to work with. It is with this class that the user will be able to perform map algebra, pyramid, and save the layer among other operations.\n",
    "\n",
    "In the case of `TiledRasterLayer`, `K` is either `SpatialKey` or `SpaceTimeKey`."
   ]
  }
 ],
 "metadata": {
  "kernelspec": {
   "display_name": "Python 3",
   "language": "python",
   "name": "python3"
  },
  "language_info": {
   "codemirror_mode": {
    "name": "ipython",
    "version": 3
   },
   "file_extension": ".py",
   "mimetype": "text/x-python",
   "name": "python",
   "nbconvert_exporter": "python",
   "pygments_lexer": "ipython3",
   "version": "3.5.1+"
  }
 },
 "nbformat": 4,
 "nbformat_minor": 2
}
