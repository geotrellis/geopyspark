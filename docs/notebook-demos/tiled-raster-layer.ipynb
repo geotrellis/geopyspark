{
 "cells": [
  {
   "cell_type": "markdown",
   "metadata": {},
   "source": [
    "# Working With TiledRasterLayers\n",
    "\n",
    "TiledRasterRDD will be the class that will see the most use. It provides all the methods needed to perform a computations and analysis on the data. When reading and saving layers, this class will be used.\n",
    "\n",
    "This following guide will go over the creation methods and abilities unique to TiledRasterLayer. For RasterLayer, please see this [guide] and for a more general overview of layers, look [here]."
   ]
  },
  {
   "cell_type": "markdown",
   "metadata": {},
   "source": [
    "## Setting up the Environment for This Guide"
   ]
  },
  {
   "cell_type": "code",
   "execution_count": 1,
   "metadata": {
    "collapsed": false
   },
   "outputs": [],
   "source": [
    "import numpy as np\n",
    "import pyproj\n",
    "from shapely.geometry import Point, Polygon, MultiPoint\n",
    "\n",
    "import geopyspark as gps\n",
    "from pyspark import SparkContext"
   ]
  },
  {
   "cell_type": "code",
   "execution_count": 2,
   "metadata": {
    "collapsed": true
   },
   "outputs": [],
   "source": [
    "conf = gps.geopyspark_conf(master=\"local[*]\", appName=\"tiled-raster-layer-examples\")\n",
    "pysc = SparkContext(conf=conf)"
   ]
  },
  {
   "cell_type": "markdown",
   "metadata": {},
   "source": [
    "## Creating TiledRasterLayers"
   ]
  },
  {
   "cell_type": "markdown",
   "metadata": {},
   "source": [
    "### From PySpark RDD\n",
    "\n",
    "Like `RasterLayer`s, `TiledRasterLayer`s can be created from RDDS using `from_numpy_rdd` as well. What is different, however, is `Metadata` which must also be passed in during initialization. This makes creating `TiledRasterLayer`s this way a little bit more arduous.\n",
    "\n",
    "The following example constructs a RDD with a tuple. The first element is a `SpatialKey` because we have decidec to make the data spatial. If we were dealing with spatial-temproal data, then `SpaceTimeKey` would be the first element. `Tile` will always be the second element of the tuple."
   ]
  },
  {
   "cell_type": "code",
   "execution_count": 4,
   "metadata": {
    "collapsed": false
   },
   "outputs": [
    {
     "data": {
      "text/plain": [
       "TiledRasterLayer(layer_type=LayerType.SPATIAL, zoom_level=None, is_floating_point_layer=True)"
      ]
     },
     "execution_count": 4,
     "metadata": {},
     "output_type": "execute_result"
    }
   ],
   "source": [
    "spatial_key = gps.SpatialKey\n",
    "\n",
    "data = np.array([[\n",
    "    [1.0, 1.0, 1.0, 1.0, 1.0],\n",
    "    [1.0, 1.0, 1.0, 1.0, 1.0],\n",
    "    [1.0, 1.0, 1.0, 1.0, 1.0],\n",
    "    [1.0, 1.0, 1.0, 1.0, 1.0],\n",
    "    [1.0, 1.0, 1.0, 1.0, 0.0]]], dtype=float)\n",
    "\n",
    "tile = gps.Tile.from_numpy_array(numpy_array=data, no_data_value=-1.0)\n",
    "\n",
    "layer = [(spatial_key(row=0, col=0), tile),\n",
    "         (spatial_key(row=1, col=0), tile),\n",
    "         (spatial_key(row=0, col=1), tile),\n",
    "         (spatial_key(row=1, col=1), tile)]\n",
    "\n",
    "rdd = pysc.parallelize(layer)\n",
    "\n",
    "extent = gps.Extent(0.0, 0.0, 33.0, 33.0)\n",
    "layout = gps.TileLayout(2, 2, 5, 5)\n",
    "bounds = gps.Bounds(spatial_key(col=0, row=0), spatial_key(col=1, row=1))\n",
    "layout_definition = gps.LayoutDefinition(extent, layout)\n",
    "\n",
    "metadata = gps.Metadata(\n",
    "    bounds=bounds,\n",
    "    crs='+proj=longlat +datum=WGS84 +no_defs ',\n",
    "    cell_type='float32ud-1.0',\n",
    "    extent=extent,\n",
    "    layout_definition=layout_definition)\n",
    "\n",
    "tiled_layer = gps.TiledRasterLayer.from_numpy_rdd(pysc=pysc, layer_type=gps.LayerType.SPATIAL, numpy_rdd=rdd,\n",
    "                                                  metadata=metadata)\n",
    "tiled_layer"
   ]
  },
  {
   "cell_type": "markdown",
   "metadata": {},
   "source": [
    "### Through Rasterization\n",
    "\n",
    "Another means of producing `TiledRasterLayer` is through rasterizing a Shapely geometry via the `rasterize` method."
   ]
  },
  {
   "cell_type": "code",
   "execution_count": 11,
   "metadata": {
    "collapsed": false
   },
   "outputs": [
    {
     "data": {
      "text/plain": [
       "TiledRasterLayer(layer_type=LayerType.SPATIAL, zoom_level=10, is_floating_point_layer=True)"
      ]
     },
     "execution_count": 11,
     "metadata": {},
     "output_type": "execute_result"
    }
   ],
   "source": [
    "extent = gps.Extent(0.0, 0.0, 11.0, 11.0)\n",
    "polygon = Polygon([(0, 11), (11, 11), (11, 0), (0, 0)])\n",
    "\n",
    "gps.rasterize(pysc=pysc, geoms=[polygon], crs=\"EPSG:3857\", zoom=10, fill_value=1.0)"
   ]
  },
  {
   "cell_type": "markdown",
   "metadata": {},
   "source": [
    "### Through Euclidean Distance\n",
    "\n",
    "The final way to create `TiledRasterLayer` is by calculating the Euclidean distance of a Shapely geometry. `euclidean_distance` is the class method which does this. While you can use any geometry to perform Euclidean distance, it is recommended not to use Polygons if they cover many cells of the resulting raster. As this can impact performance in a negative way."
   ]
  },
  {
   "cell_type": "code",
   "execution_count": 12,
   "metadata": {
    "collapsed": false
   },
   "outputs": [
    {
     "data": {
      "text/plain": [
       "TiledRasterLayer(layer_type=LayerType.SPATIAL, zoom_level=7, is_floating_point_layer=True)"
      ]
     },
     "execution_count": 12,
     "metadata": {},
     "output_type": "execute_result"
    }
   ],
   "source": [
    "latlong = pyproj.Proj(init='epsg:4326')\n",
    "webmerc = pyproj.Proj(init='epsg:3857')\n",
    "points = MultiPoint([pyproj.transform(latlong, webmerc, 1, 1),\n",
    "                     pyproj.transform(latlong, webmerc, 2, 2)])\n",
    "\n",
    "points = MultiPoint([Point(0, 0), Point(0, 1), Point(1, 0), Point(1, 1)])\n",
    "\n",
    "# Makes a TiledRasterRDD from the Euclidean distance calculation.\n",
    "gps.euclidean_distance(pysc=pysc, geometry=points, source_crs=3857, zoom=7)"
   ]
  },
  {
   "cell_type": "markdown",
   "metadata": {},
   "source": [
    "## Using TiledRasterLayers\n",
    "\n",
    "`TiledRasterLayer`s will be the class that will see the most use. It provides all the methods needed to perform a computations and analysis on the data. When reading and saving layers, this class will be used."
   ]
  },
  {
   "cell_type": "markdown",
   "metadata": {},
   "source": [
    "### Reprojecting\n",
    "\n",
    "Often the tiles within a `TiledRasterLayer` will have to be reprojected. There is a method to do this aptly named, `reproject`. There are a few different ways to use this method. Each of which provides different results.\n",
    "\n",
    "The first option is to specify an `Extent` and a `TileLayout`. Where the `Extent` is the area that will be covered by the tiles and the `TileLayout` describes the tiles and the grid they’re arranged on."
   ]
  },
  {
   "cell_type": "code",
   "execution_count": 6,
   "metadata": {
    "collapsed": false
   },
   "outputs": [
    {
     "ename": "Py4JJavaError",
     "evalue": "An error occurred while calling o40.reproject.\n: java.lang.RuntimeException: Cannot construct grid bounds of this size: 228652 x 234718\n\tat scala.sys.package$.error(package.scala:27)\n\tat geotrellis.raster.GridBounds.<init>(GridBounds.scala:78)\n\tat geotrellis.spark.tiling.MapKeyTransform.apply(MapKeyTransform.scala:76)\n\tat geotrellis.spark.TileLayerMetadata$.fromRdd(TileLayerMetadata.scala:172)\n\tat geotrellis.spark.package$withCollectMetadataMethods.collectMetadata(package.scala:190)\n\tat geotrellis.spark.reproject.TileRDDReproject$.apply(TileRDDReproject.scala:136)\n\tat geotrellis.spark.reproject.TileRDDReproject$.apply(TileRDDReproject.scala:238)\n\tat geopyspark.geotrellis.SpatialTiledRasterLayer.reproject(SpatialTiledRasterLayer.scala:89)\n\tat geopyspark.geotrellis.SpatialTiledRasterLayer.reproject(SpatialTiledRasterLayer.scala:49)\n\tat sun.reflect.NativeMethodAccessorImpl.invoke0(Native Method)\n\tat sun.reflect.NativeMethodAccessorImpl.invoke(NativeMethodAccessorImpl.java:62)\n\tat sun.reflect.DelegatingMethodAccessorImpl.invoke(DelegatingMethodAccessorImpl.java:43)\n\tat java.lang.reflect.Method.invoke(Method.java:498)\n\tat py4j.reflection.MethodInvoker.invoke(MethodInvoker.java:244)\n\tat py4j.reflection.ReflectionEngine.invoke(ReflectionEngine.java:357)\n\tat py4j.Gateway.invoke(Gateway.java:280)\n\tat py4j.commands.AbstractCommand.invokeMethod(AbstractCommand.java:132)\n\tat py4j.commands.CallCommand.execute(CallCommand.java:79)\n\tat py4j.GatewayConnection.run(GatewayConnection.java:214)\n\tat java.lang.Thread.run(Thread.java:745)\n",
     "output_type": "error",
     "traceback": [
      "\u001b[0;31m---------------------------------------------------------------------------\u001b[0m",
      "\u001b[0;31mPy4JJavaError\u001b[0m                             Traceback (most recent call last)",
      "\u001b[0;32m<ipython-input-6-0029e5631e35>\u001b[0m in \u001b[0;36m<module>\u001b[0;34m()\u001b[0m\n\u001b[1;32m      3\u001b[0m \u001b[0mlayout_definition\u001b[0m \u001b[0;34m=\u001b[0m \u001b[0mgps\u001b[0m\u001b[0;34m.\u001b[0m\u001b[0mLayoutDefinition\u001b[0m\u001b[0;34m(\u001b[0m\u001b[0mextent\u001b[0m\u001b[0;34m,\u001b[0m \u001b[0mtile_layout\u001b[0m\u001b[0;34m)\u001b[0m\u001b[0;34m\u001b[0m\u001b[0m\n\u001b[1;32m      4\u001b[0m \u001b[0;34m\u001b[0m\u001b[0m\n\u001b[0;32m----> 5\u001b[0;31m \u001b[0mtiled_layer\u001b[0m\u001b[0;34m.\u001b[0m\u001b[0mreproject\u001b[0m\u001b[0;34m(\u001b[0m\u001b[0mtarget_crs\u001b[0m\u001b[0;34m=\u001b[0m\u001b[0;36m3857\u001b[0m\u001b[0;34m,\u001b[0m \u001b[0mlayout\u001b[0m\u001b[0;34m=\u001b[0m\u001b[0mlayout_definition\u001b[0m\u001b[0;34m)\u001b[0m\u001b[0;34m\u001b[0m\u001b[0m\n\u001b[0m",
      "\u001b[0;32m~/Desktop/geopyspark/geopyspark/geotrellis/layer.py\u001b[0m in \u001b[0;36mreproject\u001b[0;34m(self, target_crs, layout, resample_method)\u001b[0m\n\u001b[1;32m    902\u001b[0m             \u001b[0;32mreturn\u001b[0m \u001b[0mTiledRasterLayer\u001b[0m\u001b[0;34m(\u001b[0m\u001b[0mself\u001b[0m\u001b[0;34m.\u001b[0m\u001b[0mpysc\u001b[0m\u001b[0;34m,\u001b[0m \u001b[0mself\u001b[0m\u001b[0;34m.\u001b[0m\u001b[0mlayer_type\u001b[0m\u001b[0;34m,\u001b[0m \u001b[0msrdd\u001b[0m\u001b[0;34m)\u001b[0m\u001b[0;34m\u001b[0m\u001b[0m\n\u001b[1;32m    903\u001b[0m         \u001b[0;32melse\u001b[0m\u001b[0;34m:\u001b[0m\u001b[0;34m\u001b[0m\u001b[0m\n\u001b[0;32m--> 904\u001b[0;31m             \u001b[0;32mreturn\u001b[0m \u001b[0m_reproject\u001b[0m\u001b[0;34m(\u001b[0m\u001b[0mtarget_crs\u001b[0m\u001b[0;34m,\u001b[0m \u001b[0mlayout\u001b[0m\u001b[0;34m,\u001b[0m \u001b[0mresample_method\u001b[0m\u001b[0;34m,\u001b[0m \u001b[0mself\u001b[0m\u001b[0;34m)\u001b[0m\u001b[0;34m\u001b[0m\u001b[0m\n\u001b[0m\u001b[1;32m    905\u001b[0m \u001b[0;34m\u001b[0m\u001b[0m\n\u001b[1;32m    906\u001b[0m     \u001b[0;32mdef\u001b[0m \u001b[0mrepartition\u001b[0m\u001b[0;34m(\u001b[0m\u001b[0mself\u001b[0m\u001b[0;34m,\u001b[0m \u001b[0mnum_partitions\u001b[0m\u001b[0;34m)\u001b[0m\u001b[0;34m:\u001b[0m\u001b[0;34m\u001b[0m\u001b[0m\n",
      "\u001b[0;32m~/Desktop/geopyspark/geopyspark/geotrellis/layer.py\u001b[0m in \u001b[0;36m_reproject\u001b[0;34m(target_crs, layout, resample_method, layer)\u001b[0m\n\u001b[1;32m     99\u001b[0m \u001b[0;34m\u001b[0m\u001b[0m\n\u001b[1;32m    100\u001b[0m     \u001b[0;32mif\u001b[0m \u001b[0misinstance\u001b[0m\u001b[0;34m(\u001b[0m\u001b[0mlayout\u001b[0m\u001b[0;34m,\u001b[0m \u001b[0;34m(\u001b[0m\u001b[0mLocalLayout\u001b[0m\u001b[0;34m,\u001b[0m \u001b[0mGlobalLayout\u001b[0m\u001b[0;34m,\u001b[0m \u001b[0mLayoutDefinition\u001b[0m\u001b[0;34m)\u001b[0m\u001b[0;34m)\u001b[0m\u001b[0;34m:\u001b[0m\u001b[0;34m\u001b[0m\u001b[0m\n\u001b[0;32m--> 101\u001b[0;31m         \u001b[0msrdd\u001b[0m \u001b[0;34m=\u001b[0m \u001b[0mlayer\u001b[0m\u001b[0;34m.\u001b[0m\u001b[0msrdd\u001b[0m\u001b[0;34m.\u001b[0m\u001b[0mreproject\u001b[0m\u001b[0;34m(\u001b[0m\u001b[0mtarget_crs\u001b[0m\u001b[0;34m,\u001b[0m \u001b[0mlayout\u001b[0m\u001b[0;34m,\u001b[0m \u001b[0mresample_method\u001b[0m\u001b[0;34m)\u001b[0m\u001b[0;34m\u001b[0m\u001b[0m\n\u001b[0m\u001b[1;32m    102\u001b[0m         \u001b[0;32mreturn\u001b[0m \u001b[0mTiledRasterLayer\u001b[0m\u001b[0;34m(\u001b[0m\u001b[0mlayer\u001b[0m\u001b[0;34m.\u001b[0m\u001b[0mpysc\u001b[0m\u001b[0;34m,\u001b[0m \u001b[0mlayer\u001b[0m\u001b[0;34m.\u001b[0m\u001b[0mlayer_type\u001b[0m\u001b[0;34m,\u001b[0m \u001b[0msrdd\u001b[0m\u001b[0;34m)\u001b[0m\u001b[0;34m\u001b[0m\u001b[0m\n\u001b[1;32m    103\u001b[0m \u001b[0;34m\u001b[0m\u001b[0m\n",
      "\u001b[0;32m/usr/local/spark/python/lib/py4j-0.10.4-src.zip/py4j/java_gateway.py\u001b[0m in \u001b[0;36m__call__\u001b[0;34m(self, *args)\u001b[0m\n\u001b[1;32m   1131\u001b[0m         \u001b[0manswer\u001b[0m \u001b[0;34m=\u001b[0m \u001b[0mself\u001b[0m\u001b[0;34m.\u001b[0m\u001b[0mgateway_client\u001b[0m\u001b[0;34m.\u001b[0m\u001b[0msend_command\u001b[0m\u001b[0;34m(\u001b[0m\u001b[0mcommand\u001b[0m\u001b[0;34m)\u001b[0m\u001b[0;34m\u001b[0m\u001b[0m\n\u001b[1;32m   1132\u001b[0m         return_value = get_return_value(\n\u001b[0;32m-> 1133\u001b[0;31m             answer, self.gateway_client, self.target_id, self.name)\n\u001b[0m\u001b[1;32m   1134\u001b[0m \u001b[0;34m\u001b[0m\u001b[0m\n\u001b[1;32m   1135\u001b[0m         \u001b[0;32mfor\u001b[0m \u001b[0mtemp_arg\u001b[0m \u001b[0;32min\u001b[0m \u001b[0mtemp_args\u001b[0m\u001b[0;34m:\u001b[0m\u001b[0;34m\u001b[0m\u001b[0m\n",
      "\u001b[0;32m/usr/local/spark/python/lib/py4j-0.10.4-src.zip/py4j/protocol.py\u001b[0m in \u001b[0;36mget_return_value\u001b[0;34m(answer, gateway_client, target_id, name)\u001b[0m\n\u001b[1;32m    317\u001b[0m                 raise Py4JJavaError(\n\u001b[1;32m    318\u001b[0m                     \u001b[0;34m\"An error occurred while calling {0}{1}{2}.\\n\"\u001b[0m\u001b[0;34m.\u001b[0m\u001b[0;34m\u001b[0m\u001b[0m\n\u001b[0;32m--> 319\u001b[0;31m                     format(target_id, \".\", name), value)\n\u001b[0m\u001b[1;32m    320\u001b[0m             \u001b[0;32melse\u001b[0m\u001b[0;34m:\u001b[0m\u001b[0;34m\u001b[0m\u001b[0m\n\u001b[1;32m    321\u001b[0m                 raise Py4JError(\n",
      "\u001b[0;31mPy4JJavaError\u001b[0m: An error occurred while calling o40.reproject.\n: java.lang.RuntimeException: Cannot construct grid bounds of this size: 228652 x 234718\n\tat scala.sys.package$.error(package.scala:27)\n\tat geotrellis.raster.GridBounds.<init>(GridBounds.scala:78)\n\tat geotrellis.spark.tiling.MapKeyTransform.apply(MapKeyTransform.scala:76)\n\tat geotrellis.spark.TileLayerMetadata$.fromRdd(TileLayerMetadata.scala:172)\n\tat geotrellis.spark.package$withCollectMetadataMethods.collectMetadata(package.scala:190)\n\tat geotrellis.spark.reproject.TileRDDReproject$.apply(TileRDDReproject.scala:136)\n\tat geotrellis.spark.reproject.TileRDDReproject$.apply(TileRDDReproject.scala:238)\n\tat geopyspark.geotrellis.SpatialTiledRasterLayer.reproject(SpatialTiledRasterLayer.scala:89)\n\tat geopyspark.geotrellis.SpatialTiledRasterLayer.reproject(SpatialTiledRasterLayer.scala:49)\n\tat sun.reflect.NativeMethodAccessorImpl.invoke0(Native Method)\n\tat sun.reflect.NativeMethodAccessorImpl.invoke(NativeMethodAccessorImpl.java:62)\n\tat sun.reflect.DelegatingMethodAccessorImpl.invoke(DelegatingMethodAccessorImpl.java:43)\n\tat java.lang.reflect.Method.invoke(Method.java:498)\n\tat py4j.reflection.MethodInvoker.invoke(MethodInvoker.java:244)\n\tat py4j.reflection.ReflectionEngine.invoke(ReflectionEngine.java:357)\n\tat py4j.Gateway.invoke(Gateway.java:280)\n\tat py4j.commands.AbstractCommand.invokeMethod(AbstractCommand.java:132)\n\tat py4j.commands.CallCommand.execute(CallCommand.java:79)\n\tat py4j.GatewayConnection.run(GatewayConnection.java:214)\n\tat java.lang.Thread.run(Thread.java:745)\n"
     ]
    }
   ],
   "source": [
    "extent = gps.Extent(0.0, 0.0, 33.0, 33.0)\n",
    "tile_layout = gps.TileLayout(2, 2, 5, 5)\n",
    "layout_definition = gps.LayoutDefinition(extent, tile_layout)\n",
    "\n",
    "tiled_layer.reproject(target_crs=3857, layout=layout_definition)"
   ]
  },
  {
   "cell_type": "markdown",
   "metadata": {},
   "source": [
    "The other option is to simply give `reproject` a `tile_size` that each tile should be in the resulting grid. `Extent` and `TileLayout` will be calculated from this size. Using this method will ensure that the native resolutions of the rasters are kept.\n",
    "\n",
    "Below, we will be using the default `tile_size`, 256."
   ]
  },
  {
   "cell_type": "code",
   "execution_count": 7,
   "metadata": {
    "collapsed": false
   },
   "outputs": [
    {
     "ename": "Py4JJavaError",
     "evalue": "An error occurred while calling o40.reproject.\n: java.lang.RuntimeException: Cannot construct grid bounds of this size: 228652 x 234718\n\tat scala.sys.package$.error(package.scala:27)\n\tat geotrellis.raster.GridBounds.<init>(GridBounds.scala:78)\n\tat geotrellis.spark.tiling.MapKeyTransform.apply(MapKeyTransform.scala:76)\n\tat geotrellis.spark.TileLayerMetadata$.fromRdd(TileLayerMetadata.scala:172)\n\tat geotrellis.spark.package$withCollectMetadataMethods.collectMetadata(package.scala:190)\n\tat geotrellis.spark.reproject.TileRDDReproject$.apply(TileRDDReproject.scala:136)\n\tat geotrellis.spark.reproject.TileRDDReproject$.apply(TileRDDReproject.scala:238)\n\tat geotrellis.spark.reproject.TileRDDReprojectMethods.reproject(TileRDDReprojectMethods.scala:73)\n\tat geopyspark.geotrellis.SpatialTiledRasterLayer.reproject(SpatialTiledRasterLayer.scala:64)\n\tat geopyspark.geotrellis.SpatialTiledRasterLayer.reproject(SpatialTiledRasterLayer.scala:49)\n\tat sun.reflect.NativeMethodAccessorImpl.invoke0(Native Method)\n\tat sun.reflect.NativeMethodAccessorImpl.invoke(NativeMethodAccessorImpl.java:62)\n\tat sun.reflect.DelegatingMethodAccessorImpl.invoke(DelegatingMethodAccessorImpl.java:43)\n\tat java.lang.reflect.Method.invoke(Method.java:498)\n\tat py4j.reflection.MethodInvoker.invoke(MethodInvoker.java:244)\n\tat py4j.reflection.ReflectionEngine.invoke(ReflectionEngine.java:357)\n\tat py4j.Gateway.invoke(Gateway.java:280)\n\tat py4j.commands.AbstractCommand.invokeMethod(AbstractCommand.java:132)\n\tat py4j.commands.CallCommand.execute(CallCommand.java:79)\n\tat py4j.GatewayConnection.run(GatewayConnection.java:214)\n\tat java.lang.Thread.run(Thread.java:745)\n",
     "output_type": "error",
     "traceback": [
      "\u001b[0;31m---------------------------------------------------------------------------\u001b[0m",
      "\u001b[0;31mPy4JJavaError\u001b[0m                             Traceback (most recent call last)",
      "\u001b[0;32m<ipython-input-7-8d37b8f1a443>\u001b[0m in \u001b[0;36m<module>\u001b[0;34m()\u001b[0m\n\u001b[0;32m----> 1\u001b[0;31m \u001b[0mtiled_layer\u001b[0m\u001b[0;34m.\u001b[0m\u001b[0mreproject\u001b[0m\u001b[0;34m(\u001b[0m\u001b[0mtarget_crs\u001b[0m\u001b[0;34m=\u001b[0m\u001b[0;36m3857\u001b[0m\u001b[0;34m)\u001b[0m\u001b[0;34m\u001b[0m\u001b[0m\n\u001b[0m",
      "\u001b[0;32m~/Desktop/geopyspark/geopyspark/geotrellis/layer.py\u001b[0m in \u001b[0;36mreproject\u001b[0;34m(self, target_crs, layout, resample_method)\u001b[0m\n\u001b[1;32m    899\u001b[0m \u001b[0;34m\u001b[0m\u001b[0m\n\u001b[1;32m    900\u001b[0m         \u001b[0;32mif\u001b[0m \u001b[0mlayout\u001b[0m \u001b[0;32mis\u001b[0m \u001b[0;32mNone\u001b[0m\u001b[0;34m:\u001b[0m\u001b[0;34m\u001b[0m\u001b[0m\n\u001b[0;32m--> 901\u001b[0;31m             \u001b[0msrdd\u001b[0m \u001b[0;34m=\u001b[0m \u001b[0mself\u001b[0m\u001b[0;34m.\u001b[0m\u001b[0msrdd\u001b[0m\u001b[0;34m.\u001b[0m\u001b[0mreproject\u001b[0m\u001b[0;34m(\u001b[0m\u001b[0mtarget_crs\u001b[0m\u001b[0;34m,\u001b[0m \u001b[0mresample_method\u001b[0m\u001b[0;34m)\u001b[0m\u001b[0;34m\u001b[0m\u001b[0m\n\u001b[0m\u001b[1;32m    902\u001b[0m             \u001b[0;32mreturn\u001b[0m \u001b[0mTiledRasterLayer\u001b[0m\u001b[0;34m(\u001b[0m\u001b[0mself\u001b[0m\u001b[0;34m.\u001b[0m\u001b[0mpysc\u001b[0m\u001b[0;34m,\u001b[0m \u001b[0mself\u001b[0m\u001b[0;34m.\u001b[0m\u001b[0mlayer_type\u001b[0m\u001b[0;34m,\u001b[0m \u001b[0msrdd\u001b[0m\u001b[0;34m)\u001b[0m\u001b[0;34m\u001b[0m\u001b[0m\n\u001b[1;32m    903\u001b[0m         \u001b[0;32melse\u001b[0m\u001b[0;34m:\u001b[0m\u001b[0;34m\u001b[0m\u001b[0m\n",
      "\u001b[0;32m/usr/local/spark/python/lib/py4j-0.10.4-src.zip/py4j/java_gateway.py\u001b[0m in \u001b[0;36m__call__\u001b[0;34m(self, *args)\u001b[0m\n\u001b[1;32m   1131\u001b[0m         \u001b[0manswer\u001b[0m \u001b[0;34m=\u001b[0m \u001b[0mself\u001b[0m\u001b[0;34m.\u001b[0m\u001b[0mgateway_client\u001b[0m\u001b[0;34m.\u001b[0m\u001b[0msend_command\u001b[0m\u001b[0;34m(\u001b[0m\u001b[0mcommand\u001b[0m\u001b[0;34m)\u001b[0m\u001b[0;34m\u001b[0m\u001b[0m\n\u001b[1;32m   1132\u001b[0m         return_value = get_return_value(\n\u001b[0;32m-> 1133\u001b[0;31m             answer, self.gateway_client, self.target_id, self.name)\n\u001b[0m\u001b[1;32m   1134\u001b[0m \u001b[0;34m\u001b[0m\u001b[0m\n\u001b[1;32m   1135\u001b[0m         \u001b[0;32mfor\u001b[0m \u001b[0mtemp_arg\u001b[0m \u001b[0;32min\u001b[0m \u001b[0mtemp_args\u001b[0m\u001b[0;34m:\u001b[0m\u001b[0;34m\u001b[0m\u001b[0m\n",
      "\u001b[0;32m/usr/local/spark/python/lib/py4j-0.10.4-src.zip/py4j/protocol.py\u001b[0m in \u001b[0;36mget_return_value\u001b[0;34m(answer, gateway_client, target_id, name)\u001b[0m\n\u001b[1;32m    317\u001b[0m                 raise Py4JJavaError(\n\u001b[1;32m    318\u001b[0m                     \u001b[0;34m\"An error occurred while calling {0}{1}{2}.\\n\"\u001b[0m\u001b[0;34m.\u001b[0m\u001b[0;34m\u001b[0m\u001b[0m\n\u001b[0;32m--> 319\u001b[0;31m                     format(target_id, \".\", name), value)\n\u001b[0m\u001b[1;32m    320\u001b[0m             \u001b[0;32melse\u001b[0m\u001b[0;34m:\u001b[0m\u001b[0;34m\u001b[0m\u001b[0m\n\u001b[1;32m    321\u001b[0m                 raise Py4JError(\n",
      "\u001b[0;31mPy4JJavaError\u001b[0m: An error occurred while calling o40.reproject.\n: java.lang.RuntimeException: Cannot construct grid bounds of this size: 228652 x 234718\n\tat scala.sys.package$.error(package.scala:27)\n\tat geotrellis.raster.GridBounds.<init>(GridBounds.scala:78)\n\tat geotrellis.spark.tiling.MapKeyTransform.apply(MapKeyTransform.scala:76)\n\tat geotrellis.spark.TileLayerMetadata$.fromRdd(TileLayerMetadata.scala:172)\n\tat geotrellis.spark.package$withCollectMetadataMethods.collectMetadata(package.scala:190)\n\tat geotrellis.spark.reproject.TileRDDReproject$.apply(TileRDDReproject.scala:136)\n\tat geotrellis.spark.reproject.TileRDDReproject$.apply(TileRDDReproject.scala:238)\n\tat geotrellis.spark.reproject.TileRDDReprojectMethods.reproject(TileRDDReprojectMethods.scala:73)\n\tat geopyspark.geotrellis.SpatialTiledRasterLayer.reproject(SpatialTiledRasterLayer.scala:64)\n\tat geopyspark.geotrellis.SpatialTiledRasterLayer.reproject(SpatialTiledRasterLayer.scala:49)\n\tat sun.reflect.NativeMethodAccessorImpl.invoke0(Native Method)\n\tat sun.reflect.NativeMethodAccessorImpl.invoke(NativeMethodAccessorImpl.java:62)\n\tat sun.reflect.DelegatingMethodAccessorImpl.invoke(DelegatingMethodAccessorImpl.java:43)\n\tat java.lang.reflect.Method.invoke(Method.java:498)\n\tat py4j.reflection.MethodInvoker.invoke(MethodInvoker.java:244)\n\tat py4j.reflection.ReflectionEngine.invoke(ReflectionEngine.java:357)\n\tat py4j.Gateway.invoke(Gateway.java:280)\n\tat py4j.commands.AbstractCommand.invokeMethod(AbstractCommand.java:132)\n\tat py4j.commands.CallCommand.execute(CallCommand.java:79)\n\tat py4j.GatewayConnection.run(GatewayConnection.java:214)\n\tat java.lang.Thread.run(Thread.java:745)\n"
     ]
    }
   ],
   "source": [
    "tiled_layer.reproject(target_crs=3857)"
   ]
  },
  {
   "cell_type": "markdown",
   "metadata": {},
   "source": [
    "If you're planning on making a TMS server, then the following is the only way to reproject the layer."
   ]
  },
  {
   "cell_type": "code",
   "execution_count": null,
   "metadata": {
    "collapsed": false
   },
   "outputs": [],
   "source": [
    "tiled_layer.reproject(target_crs=3857, scheme=LayoutScheme.ZOOM)"
   ]
  },
  {
   "cell_type": "markdown",
   "metadata": {},
   "source": [
    "### Retiling\n",
    "\n",
    "It is possible to change the layout of the tiles within `TiledRasterLayer` via `tile_to_layout`."
   ]
  },
  {
   "cell_type": "code",
   "execution_count": null,
   "metadata": {
    "collapsed": false
   },
   "outputs": [],
   "source": [
    "extent = Extent(100.0, 100.0, 250.0, 250.0)\n",
    "tile_layout = TileLayout(5, 5, 256, 256)\n",
    "layout_definition = LayoutDefinition(extent, tile_layout)\n",
    "\n",
    "tiled_layer.tile_to_layout(layout=layout_definition)"
   ]
  },
  {
   "cell_type": "markdown",
   "metadata": {},
   "source": [
    "### Masking\n",
    "\n",
    "By using `mask`, the `TiledRasterRDD` can be masekd using one or more Shapely geometries."
   ]
  },
  {
   "cell_type": "code",
   "execution_count": null,
   "metadata": {
    "collapsed": false
   },
   "outputs": [],
   "source": [
    "polygon = Polygon([(0, 0), (10, 0), (10, 10), (0, 10), (0, 0)])\n",
    "\n",
    "tiled_layer.mask(geometries=polygon)"
   ]
  },
  {
   "cell_type": "markdown",
   "metadata": {},
   "source": [
    "### Stitching\n",
    "\n",
    "Using `stitch` will produce a single `Tile` by stitching together all of the tiles within the `TiledRasterLayer`. This can only be done with spatial layers, and is not recommended if the data contained within is large. As it can cause crashes due to its size."
   ]
  },
  {
   "cell_type": "code",
   "execution_count": null,
   "metadata": {
    "collapsed": false
   },
   "outputs": [],
   "source": [
    "tiled_layer.stitch()"
   ]
  },
  {
   "cell_type": "markdown",
   "metadata": {},
   "source": [
    "### Pyramiding\n",
    "\n",
    "`pyramid` will create a new `TiledRasterLayer` for each zoom level, and the resulting list will then be used to create a new instance of the `Pyramid` class."
   ]
  },
  {
   "cell_type": "code",
   "execution_count": null,
   "metadata": {
    "collapsed": false
   },
   "outputs": [],
   "source": [
    "tiled_layer.pyramid(start_zoom=12, end_zoom=1)"
   ]
  },
  {
   "cell_type": "markdown",
   "metadata": {},
   "source": [
    "### Operations\n",
    "\n",
    "TiledRasterRDDs can perform both local and focal operations."
   ]
  },
  {
   "cell_type": "markdown",
   "metadata": {},
   "source": [
    "#### Local\n",
    "\n",
    "Performing local operations with `TiledRasterLayer`s can be performed with ints, floats, or other `TiledRasterLayer`s."
   ]
  },
  {
   "cell_type": "code",
   "execution_count": null,
   "metadata": {
    "collapsed": false
   },
   "outputs": [],
   "source": [
    "tiled_layer + 1\n",
    "\n",
    "(tiled_layer + tiled_layer) / 2\n",
    "\n",
    "1 / (5 - tiled_layer)"
   ]
  },
  {
   "cell_type": "markdown",
   "metadata": {},
   "source": [
    "#### Focal\n",
    "\n",
    "Focal operations are done by selecting both a `neighborhood` and an `operation`. Because the inputs must be sent over to Scala, the operation must be entered in the form of a constant.\n",
    "\n",
    "`neighborhood` can be specified with either a `Neighboorhod` sub-class, or a constant. The first example will be using one of the `Neighborhood` classes."
   ]
  },
  {
   "cell_type": "code",
   "execution_count": null,
   "metadata": {
    "collapsed": false
   },
   "outputs": [],
   "source": [
    "square_neighborhood = Square(extent=1)\n",
    "tiled_layer.focal(operation=Operation.SLOPE, neighborhood=square_neighborhood)"
   ]
  },
  {
   "cell_type": "markdown",
   "metadata": {},
   "source": [
    "Performing a focal operation with a constant for `neighborhood`."
   ]
  },
  {
   "cell_type": "code",
   "execution_count": null,
   "metadata": {
    "collapsed": false
   },
   "outputs": [],
   "source": [
    "tiled_layer.focal(operation=Operation.SLOPE, neighborhood=Neighborhood.SQUARE, param_1=1)"
   ]
  },
  {
   "cell_type": "markdown",
   "metadata": {},
   "source": [
    "#### Polygonal Summary\n",
    "\n",
    "In addition to local and focal methods, `TiledRasterLayer` can also perform polygonal summary methods. Using Shapely geometries, one can find the `min`, `max`, `sum`, and `mean` of all of the values intersected by the geometry."
   ]
  },
  {
   "cell_type": "code",
   "execution_count": 8,
   "metadata": {
    "collapsed": false
   },
   "outputs": [
    {
     "data": {
      "text/plain": [
       "1.0"
      ]
     },
     "execution_count": 8,
     "metadata": {},
     "output_type": "execute_result"
    }
   ],
   "source": [
    "polygon = Polygon([(0, 0), (10, 0), (10, 10), (0, 10), (0, 0)])\n",
    "\n",
    "tiled_layer.polygonal_min(geometry=polygon, data_type=int)\n",
    "\n",
    "tiled_layer.polygonal_max(geometry=polygon, data_type=float)\n",
    "\n",
    "tiled_layer.polygonal_sum(geometry=polygon, data_type=int)\n",
    "\n",
    "tiled_layer.polygonal_mean(geometry=polygon)"
   ]
  }
 ],
 "metadata": {
  "kernelspec": {
   "display_name": "Python 3",
   "language": "python",
   "name": "python3"
  },
  "language_info": {
   "codemirror_mode": {
    "name": "ipython",
    "version": 3
   },
   "file_extension": ".py",
   "mimetype": "text/x-python",
   "name": "python",
   "nbconvert_exporter": "python",
   "pygments_lexer": "ipython3",
   "version": "3.5.1+"
  }
 },
 "nbformat": 4,
 "nbformat_minor": 2
}
